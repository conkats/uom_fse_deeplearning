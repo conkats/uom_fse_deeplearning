{
  "cells": [
    {
      "cell_type": "markdown",
      "metadata": {
        "id": "XvpXjZPh8gK8"
      },
      "source": [
        "![](https://github.com/CLDiego/uom_fse_dl_workshop/raw/main/figs/se05.png)\n",
        "[![Open In Colab](https://colab.research.google.com/assets/colab-badge.svg)](https://colab.research.google.com/github/CLDiego/uom_fse_dl_workshop/blob/main/SE05_CA_Transfer_Learning.ipynb)\n",
        "# Workshop Instructions\n",
        "***\n",
        "- <img src=\"https://github.com/CLDiego/uom_fse_dl_workshop/raw/main/figs/icons/write.svg\" width=\"20\"/> Follow along by typing the code yourself - this helps with learning!\n",
        "- <img src=\"https://github.com/CLDiego/uom_fse_dl_workshop/raw/main/figs/icons/code.svg\" width=\"20\"/> Code cells marked as \"Exercise\" are for you to complete\n",
        "- <img src=\"https://github.com/CLDiego/uom_fse_dl_workshop/raw/main/figs/icons/reminder.svg\" width=\"20\"/> Look for hints if you get stuck\n",
        "- <img src=\"https://github.com/CLDiego/uom_fse_dl_workshop/raw/main/figs/icons/success.svg\" width=\"20\" /> Compare your solution with the provided answers\n",
        "- <img src=\"https://github.com/CLDiego/uom_fse_dl_workshop/raw/main/figs/icons/list.svg\" width=\"20\" /> Don't worry if you make mistakes - debugging is part of learning!"
      ]
    },
    {
      "cell_type": "code",
      "execution_count": 1,
      "metadata": {
        "colab": {
          "base_uri": "https://localhost:8080/"
        },
        "id": "Z4nT0F_D8gK-",
        "outputId": "3031b26c-8d5c-4351-866b-a21313ccb145"
      },
      "outputs": [
        {
          "output_type": "stream",
          "name": "stdout",
          "text": [
            "colab_utils.txt     100%[===================>]   1.57K  --.-KB/s    in 0s      \n",
            "utils/__init__.py   100%[===================>]   1.75K  --.-KB/s    in 0s      \n",
            "utils/__version__.p 100%[===================>]     234  --.-KB/s    in 0s      \n",
            "utils/core.py       100%[===================>]  55.36K  --.-KB/s    in 0.01s   \n",
            "utils/quizzes.json  100%[===================>]  18.63K  --.-KB/s    in 0.001s  \n",
            "utils/solutions.jso 100%[===================>]  45.93K  --.-KB/s    in 0.003s  \n",
            "utils/data/__init__ 100%[===================>]     766  --.-KB/s    in 0s      \n",
            "utils/data/datasets 100%[===================>]   8.36K  --.-KB/s    in 0s      \n",
            "utils/data/download 100%[===================>]  11.24K  --.-KB/s    in 0s      \n",
            "utils/data/uwmgi.py 100%[===================>]  11.78K  --.-KB/s    in 0s      \n",
            "utils/ml/__init__.p 100%[===================>]     526  --.-KB/s    in 0s      \n",
            "utils/ml/metrics.py 100%[===================>]   3.60K  --.-KB/s    in 0s      \n",
            "utils/ml/scaling.py 100%[===================>]   4.77K  --.-KB/s    in 0s      \n",
            "utils/ml/training.p 100%[===================>]   8.25K  --.-KB/s    in 0s      \n",
            "utils/plotting/__in 100%[===================>]   1.59K  --.-KB/s    in 0s      \n",
            "utils/plotting/font 100%[===================>]   2.53K  --.-KB/s    in 0s      \n",
            "utils/plotting/form 100%[===================>]  12.42K  --.-KB/s    in 0s      \n",
            "utils/plotting/inte 100%[===================>]  16.23K  --.-KB/s    in 0s      \n",
            "utils/plotting/plot 100%[===================>]  22.75K  --.-KB/s    in 0.001s  \n"
          ]
        }
      ],
      "source": [
        "# Download utils from GitHub\n",
        "!wget -q --show-progress https://raw.githubusercontent.com/CLDiego/uom_fse_dl_workshop/main/colab_utils.txt -O colab_utils.txt\n",
        "!wget -q --show-progress -x -nH --cut-dirs=3 -i colab_utils.txt"
      ]
    },
    {
      "cell_type": "code",
      "execution_count": 39,
      "metadata": {
        "colab": {
          "base_uri": "https://localhost:8080/"
        },
        "id": "Chu80pOI8gK_",
        "outputId": "b4f331a0-d862-4874-d8eb-306a75f4c90b"
      },
      "outputs": [
        {
          "output_type": "stream",
          "name": "stdout",
          "text": [
            "GPU available: False\n",
            "No GPU available. Please ensure you've enabled GPU in Runtime > Change runtime type\n"
          ]
        }
      ],
      "source": [
        "from pathlib import Path\n",
        "import sys\n",
        "\n",
        "repo_path = Path.cwd()\n",
        "if str(repo_path) not in sys.path:\n",
        "    sys.path.append(str(repo_path))\n",
        "\n",
        "import utils\n",
        "import numpy as np\n",
        "import inspect\n",
        "from torchvision import transforms\n",
        "from PIL import Image\n",
        "import random\n",
        "import torch\n",
        "\n",
        "# Set random seeds for reproducibility\n",
        "torch.manual_seed(101)\n",
        "torch.cuda.manual_seed(101)\n",
        "random.seed(101)\n",
        "torch.backends.cudnn.deterministic = True\n",
        "torch.backends.cudnn.benchmark = False\n",
        "\n",
        "print(\"GPU available:\", torch.cuda.is_available())\n",
        "if torch.cuda.is_available():\n",
        "    print(\"GPU device:\", torch.cuda.get_device_name(0))\n",
        "else:\n",
        "    print(\"No GPU available. Please ensure you've enabled GPU in Runtime > Change runtime type\")\n",
        "\n",
        "checker = utils.core.ExerciseChecker(\"SE05\")\n",
        "quizzer = utils.core.QuizManager(\"SE05\")"
      ]
    },
    {
      "cell_type": "markdown",
      "metadata": {
        "id": "WVzDgHXJ8gK_"
      },
      "source": [
        "# 1. Introduction to Transfer Learning\n",
        "***\n",
        "> <img src=\"https://github.com/CLDiego/uom_fse_dl_workshop/raw/main/figs/icons/write.svg\" width=\"20\"/> **Definition**: Transfer learning is a machine learning technique where a model developed for one task is reused as a starting point for a model on a second task. It's particularly effective for deep learning models, as it allows us to leverage pre-trained models' knowledge rather than starting from scratch.\n",
        "\n",
        "In previous sessions, we learned how to build and train neural networks from scratch. However, training large deep learning models requires:\n",
        "\n",
        "1. **Massive datasets** (often millions of examples)\n",
        "2. **Extensive computational resources** (often multiple GPUs)\n",
        "3. **Long training times** (days to weeks)\n",
        "\n",
        "Transfer learning addresses these challenges by letting us capitalise on existing models that have already been trained on large datasets.\n",
        "\n",
        "<div align=\"center\">\n",
        "  <img src=\"https://github.com/CLDiego/uom_fse_dl_workshop/raw/main/figs/transfer.png\" width=\"60%\">\n",
        "</div>\n",
        "\n",
        "## 1.1 Transfer Learning Analogy\n",
        "***\n",
        "\n",
        "Transfer learning is inspired by human learning. Consider how we learn:\n",
        "\n",
        "| Human Learning | Machine Learning Parallel |\n",
        "|----------------|--------------------------|\n",
        "| A child learns to recognize basic shapes before identifying letters | A model learns edge detection before specific object recognition |\n",
        "| A musician who knows piano can learn guitar faster than a novice | A model trained on one image dataset can adapt quickly to a similar task |\n",
        "| Language skills transfer across related languages (e.g., Spanish to Italian) | NLP models pre-trained on one language can be fine-tuned for another |\n",
        "| Medical students learn general anatomy before specializing | Medical imaging models trained on general X-rays can be fine-tuned for specific conditions |\n",
        "| Engineers apply fundamental principles across different projects | Engineering models transfer physical principles across different applications |\n",
        "\n",
        "This mirrors how neural networks learn hierarchical features. Early layers learn general patterns that are often applicable across domains, while later layers learn task-specific features.\n",
        "\n",
        "\n",
        "## 1.2 When to Use Transfer Learning\n",
        "***\n",
        "\n",
        "Transfer learning is particularly useful in the following scenarios:\n",
        "\n",
        "| Scenario | Example | Benefit |\n",
        "|----------|---------|---------|\n",
        "| **Limited training data** | Medical imaging with few samples | Pre-trained features compensate for data scarcity |\n",
        "| **Similar domains** | From natural images to satellite imagery | Underlying features (edges, textures) transfer well |\n",
        "| **Time constraints** | Rapid prototyping needs | Accelerates model development cycle |\n",
        "| **Hardware limitations** | Training with limited GPU access | Reduces computational requirements |\n",
        "| **Preventing overfitting** | Small dataset applications | Regularization effect from pre-trained weights |\n",
        "\n",
        "***\n",
        "\n",
        "> <img src=\"https://github.com/CLDiego/uom_fse_dl_workshop/raw/main/figs/icons/reminder.svg\" width=\"20\"/> **Key Insight**: The effectiveness of transfer learning depends on the similarity between the source and target domains. The more similar they are, the more beneficial transfer learning becomes.\n"
      ]
    },
    {
      "cell_type": "code",
      "execution_count": null,
      "metadata": {
        "colab": {
          "base_uri": "https://localhost:8080/"
        },
        "id": "SW0FIz4g8gLA",
        "outputId": "7461af8d-5789-4e84-a88e-f4605259a8f2"
      },
      "outputs": [
        {
          "output_type": "stream",
          "name": "stdout",
          "text": [
            "\n",
            "🧠 Quiz 1: Transfer Learning Applications\n",
            "--------------------------------------------------------------------------------\n",
            "📋 Transfer Learning Applications Quiz\n",
            "--------------------------------------------------------------------------------\n",
            "In which engineering scenario would transfer learning provide the MOST significant advantage?\n",
            "\n",
            "A. When you have a simple classification problem with millions of labeled examples\n",
            "\n",
            "B. When you need to detect defects in industrial parts but only have 200 labeled images\n",
            "\n",
            "C. When you're building a model to predict well-documented physical properties\n",
            "\n",
            "D. When computational efficiency isn't a concern and you have months to train a model from scratch\n",
            "\n"
          ]
        }
      ],
      "source": [
        "# Quiz on Transfer Learning Concepts\n",
        "print(\"\\n🧠 Quiz 1: Transfer Learning Applications\")\n",
        "quizzer.run_quiz(1)"
      ]
    },
    {
      "cell_type": "markdown",
      "metadata": {
        "id": "6mjRdcvH8gLA"
      },
      "source": [
        "# 2. Case Study: Image Segmentation for Medical Imaging\n",
        "***\n",
        "> <img src=\"https://github.com/CLDiego/uom_fse_dl_workshop/raw/main/figs/icons/write.svg\" width=\"20\"/> **Image Segmentation**: The process of partitioning an image into multiple segments or regions, often used in medical imaging to identify and delineate structures within images (e.g., tumors, organs). It is a crucial step in many computer vision tasks, including object detection and recognition.\n",
        "\n",
        "For this session, we are going to be using the [**ISIC 2016 Skin Lesion Segmentation Challenge**](https://challenge.isic-archive.com/landing/2016/) dataset. This dataset contains dermoscopic images of skin lesions, along with their corresponding segmentation masks. The goal is to train a model to accurately segment the lesions from the background."
      ]
    },
    {
      "cell_type": "code",
      "execution_count": 5,
      "metadata": {
        "colab": {
          "base_uri": "https://localhost:8080/"
        },
        "id": "vcofbS578gLA",
        "outputId": "0cd0b762-eb8b-421b-ed6e-e795fa3d2e46"
      },
      "outputs": [
        {
          "output_type": "stream",
          "name": "stdout",
          "text": [
            "Downloading:\n",
            "Skin Lesion Analysis Towards Melanoma Detection\n",
            "> Authors: Tschandl, P., Rosendahl, C., Kittler, H.\n",
            "> Year: 2016\n",
            "> Website: https://challenge.isic-archive.com/data\n",
            "\n"
          ]
        },
        {
          "output_type": "stream",
          "name": "stderr",
          "text": [
            "Downloading ISBI2016_ISIC_Part1_Training_Data.zip: 100%|██████████| 632M/632M [00:07<00:00, 86.9MiB/s]\n",
            "Extracting ISBI2016_ISIC_Part1_Training_Data.zip: 100%|██████████| 900/900 [00:03<00:00, 237.88it/s]\n"
          ]
        },
        {
          "output_type": "stream",
          "name": "stdout",
          "text": [
            "Downloading:\n",
            "Skin Lesion Analysis Towards Melanoma Detection Masks\n",
            "> Authors: Tschandl, P., Rosendahl, C., Kittler, H.\n",
            "> Year: 2016\n",
            "> Website: https://challenge.isic-archive.com/data\n",
            "\n"
          ]
        },
        {
          "output_type": "stream",
          "name": "stderr",
          "text": [
            "Downloading ISBI2016_ISIC_Part1_Training_GroundTruth.zip: 100%|██████████| 6.00M/6.00M [00:00<00:00, 27.8MiB/s]\n",
            "Extracting ISBI2016_ISIC_Part1_Training_GroundTruth.zip: 100%|██████████| 900/900 [00:00<00:00, 10145.68it/s]\n"
          ]
        },
        {
          "output_type": "stream",
          "name": "stdout",
          "text": [
            "Downloading:\n",
            "Skin Lesion Analysis Towards Melanoma Detection Test Data\n",
            "> Authors: Tschandl, P., Rosendahl, C., Kittler, H.\n",
            "> Year: 2016\n",
            "> Website: https://challenge.isic-archive.com/data\n",
            "\n"
          ]
        },
        {
          "output_type": "stream",
          "name": "stderr",
          "text": [
            "Downloading ISBI2016_ISIC_Part1_Test_Data.zip: 100%|██████████| 243M/243M [00:02<00:00, 88.0MiB/s]\n",
            "Extracting ISBI2016_ISIC_Part1_Test_Data.zip: 100%|██████████| 379/379 [00:00<00:00, 639.79it/s]\n"
          ]
        },
        {
          "output_type": "stream",
          "name": "stdout",
          "text": [
            "Downloading:\n",
            "Skin Lesion Analysis Towards Melanoma Detection Test Masks\n",
            "> Authors: Tschandl, P., Rosendahl, C., Kittler, H.\n",
            "> Year: 2016\n",
            "> Website: https://challenge.isic-archive.com/data\n",
            "\n"
          ]
        },
        {
          "output_type": "stream",
          "name": "stderr",
          "text": [
            "Downloading ISBI2016_ISIC_Part1_Test_GroundTruth.zip: 100%|██████████| 2.38M/2.38M [00:00<00:00, 12.8MiB/s]\n",
            "Extracting ISBI2016_ISIC_Part1_Test_GroundTruth.zip: 100%|██████████| 379/379 [00:00<00:00, 10278.83it/s]\n"
          ]
        }
      ],
      "source": [
        "data_path = Path(Path.cwd(), 'datasets')\n",
        "dataset_path = utils.data.download_dataset('skin lesions',\n",
        "                                           dest_path=data_path,\n",
        "                                           extract=True,\n",
        "                                           remove_compressed=False)\n",
        "\n",
        "mask_path = utils.data.download_dataset('skin lesions masks',\n",
        "                                   dest_path=data_path,\n",
        "                                   extract=True,\n",
        "                                   remove_compressed=False)\n",
        "\n",
        "test_path = utils.data.download_dataset('skin lesions test',\n",
        "                                   dest_path=data_path,\n",
        "                                   extract=True,\n",
        "                                   remove_compressed=False)\n",
        "\n",
        "test_mask_path = utils.data.download_dataset('skin lesions test masks',\n",
        "                                   dest_path=data_path,\n",
        "                                   extract=True,\n",
        "                                   remove_compressed=False)"
      ]
    },
    {
      "cell_type": "markdown",
      "metadata": {
        "id": "ANO-4G9b8gLB"
      },
      "source": [
        "## 2.1 Challenges in Medical Image Segmentation\n",
        "***\n",
        "\n",
        "Medical image segmentation presents unique challenges compared to natural image segmentation:\n",
        "\n",
        "| Challenge | Description | Impact |\n",
        "|-----------|-------------|--------|\n",
        "| **Limited Data** | Medical datasets are typically smaller | Transfer learning becomes crucial |\n",
        "| **Class Imbalance** | Regions of interest often occupy a small portion of the image | Requires specialized loss functions |\n",
        "| **Ambiguous Boundaries** | Boundaries between tissues can be gradual or unclear | Makes precise segmentation difficult |\n",
        "| **Inter-observer Variability** | Different experts may segment the same image differently | Ground truth is not always definitive |\n",
        "| **High Stakes** | Errors can have serious consequences in medical applications | Demands higher accuracy and reliability |\n",
        "\n",
        "# 3. Preparing the Dataset\n",
        "***\n",
        "Segmentation tasks require both the input images and their corresponding masks. The masks are binary images where the pixels belonging to the object of interest (e.g., a tumor) are marked as 1 (or white), while the background is marked as 0 (or black). Thus, we need to load both the images and their masks for training.\n",
        "\n",
        "## 3.1 Custom Dataset Creation\n",
        "***\n",
        "\n",
        "In order for us to efficiently load the images and masks, we are going to create a custom dataset class. This class will inherit from the `torch.utils.data.Dataset` class and will handle loading the images and masks from the specified directories.\n",
        "\n",
        "The PyTorch `Dataset` class is an abstract class representing a dataset. Custom datasets should inherit from this class and override the following methods:\n",
        "\n",
        "| Method | Purpose | Implementation Requirements |\n",
        "|--------|---------|------------------------------|\n",
        "| `__init__` | Initialize the dataset | Define directories, transformations, and data loading parameters |\n",
        "| `__len__` | Return dataset size | Return the total number of samples |\n",
        "| `__getitem__` | Access a specific sample | Load and transform a sample with a given index |\n",
        "\n",
        "For image segmentation, our dataset needs to handle both input images and their corresponding segmentation masks:\n",
        "\n",
        "***\n",
        "\n",
        "> <img src=\"https://github.com/CLDiego/uom_fse_dl_workshop/raw/main/figs/icons/code.svg\" width=\"20\"/> **Snippet 1**: Create a custom dataset class for loading\n",
        "\n",
        "``` python\n",
        "from torch.utils.data import Dataset\n",
        "\n",
        "class CustomDataset(Dataset):\n",
        "    def __init__(self, **kwargs):\n",
        "        \"\"\"\n",
        "        Initializes the dataset, loading the images and masks from the specified directories.\n",
        "        \"\"\"\n",
        "    \n",
        "    def __len__(self):\n",
        "        \"\"\"\n",
        "        Returns the number of images in the dataset.\n",
        "        \"\"\"\n",
        "    \n",
        "    def __getitem__(self, idx):\n",
        "        \"\"\"\n",
        "        Defines how to get a single item (image and mask) from the dataset.\n",
        "        \n",
        "```"
      ]
    },
    {
      "cell_type": "code",
      "execution_count": 7,
      "metadata": {
        "id": "_m0BmkmL8gLB"
      },
      "outputs": [],
      "source": [
        "# Exercise 1: Creating a Custom Class Dataset 🎯\n",
        "# Implement:\n",
        "# 1. Create a custom dataset class for the ISIC dataset.\n",
        "# 2. Implement the __len__ and __getitem__ methods.\n",
        "# 3. Use the PIL library to read images and masks.\n",
        "# 4. Apply transformations to images and masks if provided.\n",
        "\n",
        "from torch.utils.data import Dataset, DataLoader\n",
        "\n",
        "class ISICDataset(Dataset):\n",
        "    def __init__(self, image_dir: Path | str, mask_dir: Path | str, img_transform=None, mask_transform=None):\n",
        "        self.image_dir = Path(image_dir)#where image lives, folder\n",
        "        self.mask_dir = Path(mask_dir)#where mass lives\n",
        "        self.img_transform = img_transform\n",
        "        self.mask_transform = mask_transform\n",
        "        # Your code here: Get list of image files from the image directory (use sorted and glob)\n",
        "        self.images = sorted(self.image_dir.glob(\"*.jpg\"))# Your code here to all the images using glob\n",
        "        # Your code here: Get list of mask files from the mask directory\n",
        "        self.masks = sorted(self.mask_dir.glob(\"*.png\"))# Your code here\n",
        "\n",
        "    def __len__(self):\n",
        "        # Your code here: Return the number of images in the dataset\n",
        "        return len(self.images)# Your code here\n",
        "\n",
        "    def __getitem__(self, idx):\n",
        "        # Your code here: Get the image and mask filenames at the specified index\n",
        "        img_name = self.images[idx]# Your code here to get the index of a particular image\n",
        "        img_path = self.image_dir / img_name# Your code here\n",
        "        mask_name = str(img_name.stem + \"_Segmentation.png\")# Your code here: Format should be \"img_name_stem + _Segmentation.png\"\n",
        "        mask_path = self.mask_dir / mask_name# Your code here\n",
        "\n",
        "        # Your code here: Open the image and convert to RGB\n",
        "        image = Image.open(img_path).convert(\"RGB\")# Your code here\n",
        "        # Your code here: Open the mask and convert to grayscale (single channel)\n",
        "        mask = Image.open(mask_path).convert(\"L\")# Your code here\n",
        "\n",
        "        # Apply transformations if provided\n",
        "        if self.img_transform:\n",
        "            # Your code here: Apply image transformation\n",
        "            image = self.img_transform(image) # Your code here\n",
        "        if self.mask_transform:\n",
        "            # Your code here: Apply mask transformation\n",
        "            mask = self.mask_transform(mask)# Your code here\n",
        "\n",
        "        return image, mask\n",
        "\n",
        "resize_transform = transforms.Compose([\n",
        "    transforms.Resize((64, 64)),\n",
        "    transforms.ToTensor(),\n",
        "])\n",
        "\n",
        "ds = ISICDataset(\n",
        "    image_dir=dataset_path,\n",
        "    mask_dir=mask_path,\n",
        "    img_transform=resize_transform,\n",
        "    mask_transform=resize_transform\n",
        ")\n"
      ]
    },
    {
      "cell_type": "code",
      "execution_count": 8,
      "metadata": {
        "colab": {
          "base_uri": "https://localhost:8080/"
        },
        "id": "4Hm-vk4x8gLC",
        "outputId": "5bdc4b19-505b-4c7f-d692-10d96f1d355e"
      },
      "outputs": [
        {
          "output_type": "stream",
          "name": "stdout",
          "text": [
            "--------------------------------------------------------------------------------\n",
            "✅ has_getitem is correct!\n",
            "✅ has_len is correct!\n",
            "✅ dataset_instance is correct!\n",
            "✅ img_transform_used is correct!\n",
            "✅ mask_transform_used is correct!\n",
            "\n",
            "🎉 Excellent! All parts are correct!\n"
          ]
        }
      ],
      "source": [
        "# ✅ Check Exercise 1: Custom Dataset Implementation\n",
        "answer = {\n",
        "    'has_getitem': hasattr(ISICDataset, '__getitem__'),\n",
        "    'has_len': hasattr(ISICDataset, '__len__'),\n",
        "    'dataset_instance': ds,\n",
        "    'img_transform_used': hasattr(ds, 'img_transform') and ds.img_transform is not None,\n",
        "    'mask_transform_used': hasattr(ds, 'mask_transform') and ds.mask_transform is not None\n",
        "}\n",
        "checker.check_exercise(1, answer)"
      ]
    },
    {
      "cell_type": "markdown",
      "metadata": {
        "id": "cBtCne2E8gLC"
      },
      "source": [
        "## 3.2 Compute the Mean and Standard Deviation of the Dataset\n",
        "***\n",
        "\n",
        "Computing dataset statistics is a critical step in preparing data for deep learning models. We need to normalize our images to help the model converge faster and perform better. By normalizing with the dataset's mean and standard deviation, we ensure that the input values have similar scales and distributions.\n",
        "\n",
        "The normalisation process follows this formula for each channel:\n",
        "\n",
        "$$x_{normalized} = \\frac{x - \\mu}{\\sigma}$$\n",
        "\n",
        "Where:\n",
        "- $x$ is the original pixel value\n",
        "- $\\mu$ is the mean of all pixels in the channel across the dataset\n",
        "- $\\sigma$ is the standard deviation of all pixels in the channel across the dataset\n",
        "\n",
        "First, we need to load the dataset and then compute the mean and standard deviation across all images."
      ]
    },
    {
      "cell_type": "code",
      "execution_count": 11,
      "metadata": {
        "colab": {
          "base_uri": "https://localhost:8080/"
        },
        "id": "A1ho_nQL8gLC",
        "outputId": "a411460a-2792-4966-bf1d-01b9c082e3af"
      },
      "outputs": [
        {
          "output_type": "stream",
          "name": "stderr",
          "text": [
            "Calculating mean and std: 100%|██████████| 57/57 [00:38<00:00,  1.48it/s]"
          ]
        },
        {
          "output_type": "stream",
          "name": "stdout",
          "text": [
            "Mean: tensor([0.7239, 0.6187, 0.5673])\n",
            "Std: tensor([0.1625, 0.1694, 0.1897])\n"
          ]
        },
        {
          "output_type": "stream",
          "name": "stderr",
          "text": [
            "\n"
          ]
        }
      ],
      "source": [
        "# Exercise 2: Calculating Mean and Std of Images 🎯\n",
        "# Implement:\n",
        "# 1. Create a DataLoader for the dataset.\n",
        "# 2. Iterate through the DataLoader to calculate the mean and standard deviation of the images.\n",
        "\n",
        "from tqdm import tqdm\n",
        "\n",
        "# Your code here: Create a DataLoader with batch size 16 and shuffle=False\n",
        "dl = DataLoader(ds, batch_size=16, shuffle=False)# Your code here\n",
        "device = torch.device(\"cuda\" if torch.cuda.is_available() else \"cpu\")\n",
        "\n",
        "n_channels = 3\n",
        "n_pixels = 0\n",
        "# Your code here: Initialize tensors to store channel sums and squared sums\n",
        "channel_sum = torch.zeros(n_channels).to(device)# Your code here\n",
        "channel_squared_sum = torch.zeros(n_channels).to(device)# Your code here\n",
        "\n",
        "for images, _ in tqdm(dl, desc=\"Calculating mean and std\"):\n",
        "    # Your code here: Reshape images to (batch_size, channels, height*width)\n",
        "    images = images.to(device)# Your code here\n",
        "    images = images.view(images.size(0), images.size(1), -1)  # (B, C, H*W)\n",
        "    # Your code here: Update the number of pixels\n",
        "    n_pixels += images.size(0) * images.size(2) # Your code here\n",
        "\n",
        "    # Your code here: Update sums (sum over batch and pixels dimensions)\n",
        "    channel_sum += images.sum(dim=[0, 2])# Your code here\n",
        "    # Your code here: Update squared sums\n",
        "    channel_squared_sum += (images ** 2).sum(dim=[0,2]) # Your code here\n",
        "\n",
        "# Calculate mean and std\n",
        "# Your code here: Calculate mean as sum divided by number of pixels\n",
        "mean = channel_sum / n_pixels# Your code here\n",
        "# Your code here: Calculate std using formula: sqrt((sum_of_squares / count) - mean^2)\n",
        "std = (channel_squared_sum / n_pixels - mean **2).sqrt()# Your code here\n",
        "\n",
        "print(\"Mean:\", mean)\n",
        "print(\"Std:\", std)"
      ]
    },
    {
      "cell_type": "code",
      "execution_count": 12,
      "metadata": {
        "colab": {
          "base_uri": "https://localhost:8080/"
        },
        "id": "SgemEDfu8gLD",
        "outputId": "c00e410b-81b9-424e-8acb-2bbbfc2f3aef"
      },
      "outputs": [
        {
          "output_type": "stream",
          "name": "stdout",
          "text": [
            "--------------------------------------------------------------------------------\n",
            "✅ dataloader is correct!\n",
            "✅ mean_shape is correct!\n",
            "✅ std_shape is correct!\n",
            "✅ mean_range is correct!\n",
            "✅ std_range is correct!\n",
            "\n",
            "🎉 Excellent! All parts are correct!\n"
          ]
        }
      ],
      "source": [
        "# ✅ Check Exercise 2: Mean and Standard Deviation Calculation\n",
        "answer = {\n",
        "    'dataloader': dl,\n",
        "    'mean_shape': mean.shape,\n",
        "    'std_shape': std.shape,\n",
        "    'mean_range': torch.all((mean >= 0) & (mean <= 1)).item(),\n",
        "    'std_range': torch.all((std > 0) & (std < 1)).item()\n",
        "}\n",
        "checker.check_exercise(2, answer)"
      ]
    },
    {
      "cell_type": "markdown",
      "metadata": {
        "id": "OwEVemUg8gLD"
      },
      "source": [
        "## 3.3 Data Augmentation\n",
        "***\n",
        "We are going to use the albumentations library for data augmentation. This library outperforms the torchvision library in terms of speed and flexibility. It provides the same transformations as torchvision and it is also compatible with PyTorch.\n",
        "\n",
        "### 3.3.1 Choosing Appropriate Augmentations for Medical Images\n",
        "\n",
        "| Augmentation Type | Purpose | Medical Imaging Considerations |\n",
        "|-------------------|---------|-------------------------------|\n",
        "| **Geometric Transforms** | Rotate, flip, resize | Should preserve diagnostic features |\n",
        "| **Color Adjustments** | Brightness, contrast, saturation | Use carefully to maintain diagnostic appearance |\n",
        "| **Noise Addition** | Add random noise | Models will be more robust to image noise |\n",
        "| **Elastic Deformations** | Simulate tissue deformation | Especially useful for soft tissue imaging |\n",
        "| **Cropping** | Focus on different regions | Ensures focus on different areas of lesion |\n",
        "\n",
        "### 3.3.2 Sync vs. Async Augmentation\n",
        "\n",
        "For segmentation tasks, we need to ensure that the same transformations are applied to both the image and its corresponding mask. This is called synchronized (sync) augmentation, as opposed to asynchronous (async) augmentation where different transformations are applied to inputs and targets.\n",
        "\n",
        "| Type | Description | Use Case |\n",
        "|------|-------------|----------|\n",
        "| **Sync Augmentation** | Apply identical spatial transforms to image and mask | Required for segmentation tasks |\n",
        "| **Async Augmentation** | Apply different transforms | Typically used for classification only |\n",
        "\n",
        "***\n",
        "\n",
        "> <img src=\"https://github.com/CLDiego/uom_fse_dl_workshop/raw/main/figs/icons/reminder.svg\" width=\"20\"/> **Important**: When augmenting for segmentation tasks, always ensure that geometric transformations (flips, rotations, etc.) are applied identically to both the image and its mask to maintain pixel-to-pixel correspondence.\n",
        "\n",
        "***\n",
        "\n",
        "> <img src=\"https://github.com/CLDiego/uom_fse_dl_workshop/raw/main/figs/icons/code.svg\" width=\"20\"/> **Snippet 2**: Using albumentations for data augmentation\n",
        "\n",
        "``` python\n",
        "import albumentations as A\n",
        "from albumentations.pytorch import ToTensorV2\n",
        "\n",
        "transform = A.Compose([\n",
        "    A.HorizontalFlip(p=0.5),\n",
        "    A.VerticalFlip(p=0.5),\n",
        "    A.RandomRotate90(p=0.5),\n",
        "    A.RandomBrightnessContrast(p=0.2),\n",
        "    A.Normalize(mean=mean, std=std, p=1.0),\n",
        "    ToTensorV2()\n",
        "])\n",
        "```"
      ]
    },
    {
      "cell_type": "code",
      "execution_count": 20,
      "metadata": {
        "id": "LFCWy53Y8gLD"
      },
      "outputs": [],
      "source": [
        "# Exercise 3: Data Augmentation with Albumentations 🎯\n",
        "# Implement:\n",
        "# 1. Use the Albumentations library to apply data augmentation techniques.\n",
        "# 2. Create a transformation pipeline for training and validation datasets.\n",
        "# 3. The training pipeline should include:\n",
        "#    - Resize to 64x64\n",
        "#    - Random horizontal and vertical flips\n",
        "#    - Random rotation (limit 10 degrees)\n",
        "#    - Random brightness, contrast, saturation, and hue adjustments\n",
        "#    - Normalization using the calculated mean and std\n",
        "# 4. The validation pipeline should include:\n",
        "#    - Resize to 64x64\n",
        "#    - Normalization using the calculated mean and std\n",
        "# 5. All transformations should convert images to PyTorch tensors.\n",
        "\n",
        "import albumentations as A\n",
        "from albumentations.pytorch import ToTensorV2\n",
        "\n",
        "# Your code here: Create training transforms pipeline with all required augmentations\n",
        "train_img_ts = A.Compose([\n",
        "    A.Resize(64, 64),# Your code here: Resize to 64x64\n",
        "    A.HorizontalFlip(p=0.5),# Your code here: HorizontalFlip with 50% probability\n",
        "    A.VerticalFlip(p=0.5),# Your code here: VerticalFlip with 50% probability\n",
        "    A.Rotate(limit=10, p=0.5),# Your code here: Random rotation with limit=10 and 50% probability\n",
        "    A.ColorJitter(brightness=0.2, contrast=0.2, saturation=0.2, hue=0.1, p=0.5),# Your code here: Color jitter (brightness, contrast, saturation, hue)\n",
        "    A.RandomBrightnessContrast(p=0.2),# Your code here: Normalize with mean and std\n",
        "    A.Normalize(mean=mean, std=std, p=1.0),# Your code here: Convert to PyTorch tensor\n",
        "    ToTensorV2()\n",
        "])\n",
        "\n",
        "# Your code here: Create validation transforms pipeline (simpler, no augmentations)\n",
        "valid_img_ts = A.Compose([\n",
        "    A.Resize(64,64),# Your code here: Resize to 64x64\n",
        "    A.Normalize(mean=mean, std=std, p=1.0), # Your code here: Normalize with mean and std\n",
        "    ToTensorV2()# Your code here: Convert to PyTorch tensor\n",
        "])\n"
      ]
    },
    {
      "cell_type": "code",
      "execution_count": 21,
      "metadata": {
        "colab": {
          "base_uri": "https://localhost:8080/"
        },
        "id": "ys4L3veU8gLD",
        "outputId": "8ade9ae4-3eaf-4083-91e6-b9476bc212b9"
      },
      "outputs": [
        {
          "output_type": "stream",
          "name": "stdout",
          "text": [
            "--------------------------------------------------------------------------------\n",
            "✅ train_transforms is correct!\n",
            "✅ valid_transforms is correct!\n",
            "✅ has_resize is correct!\n",
            "✅ has_horizontal_flip is correct!\n",
            "✅ has_vertical_flip is correct!\n",
            "✅ has_rotation is correct!\n",
            "✅ has_color_jitter is correct!\n",
            "✅ has_normalize is correct!\n",
            "✅ has_to_tensor is correct!\n",
            "\n",
            "🎉 Excellent! All parts are correct!\n"
          ]
        }
      ],
      "source": [
        "# ✅ Check Exercise 3: Data Augmentation with Albumentations\n",
        "answer = {\n",
        "    'train_transforms': train_img_ts,\n",
        "    'valid_transforms': valid_img_ts,\n",
        "    'has_resize': any(isinstance(t, A.Resize) for t in train_img_ts.transforms),\n",
        "    'has_horizontal_flip': any(isinstance(t, A.HorizontalFlip) for t in train_img_ts.transforms),\n",
        "    'has_vertical_flip': any(isinstance(t, A.VerticalFlip) for t in train_img_ts.transforms),\n",
        "    'has_rotation': any(isinstance(t, A.Rotate) for t in train_img_ts.transforms),\n",
        "    'has_color_jitter': any(isinstance(t, A.ColorJitter) for t in train_img_ts.transforms),\n",
        "    'has_normalize': any(isinstance(t, A.Normalize) for t in train_img_ts.transforms),\n",
        "    'has_to_tensor': any(isinstance(t, ToTensorV2) for t in train_img_ts.transforms)\n",
        "}\n",
        "checker.check_exercise(3, answer)"
      ]
    },
    {
      "cell_type": "markdown",
      "metadata": {
        "id": "0gCDAD2C8gLD"
      },
      "source": [
        "### 3.3.4 Modifying the Dataset Class to use Albumentations\n",
        "***\n",
        "Since normal PyTorch transforms do not support the synchronized augmentation, we need to modify our dataset class to use albumentations. We will also add the normalization step in the `__getitem__` method.\n",
        "\n",
        "We are going to create a new class called that inherits from our `ISICDataset` class. This will allow us to override the `__getitem__` method and apply the albumentations transformations."
      ]
    },
    {
      "cell_type": "code",
      "execution_count": 22,
      "metadata": {
        "id": "fQZvk1Ir8gLE"
      },
      "outputs": [],
      "source": [
        "# Exercise 4: Implementing the Albumentations Dataset Class 🎯\n",
        "# Implement:\n",
        "# 1. Inherit from the ISICDataset class.\n",
        "# 2. Override the __getitem__ method to apply Albumentations transformations.\n",
        "# 3. Ensure the mask is binary (0 or 1)\n",
        "\n",
        "class ISICDatasetAlbumentations(ISICDataset):\n",
        "    def __init__(self, image_dir: Path | str, mask_dir: Path | str, transform=None):\n",
        "        # Your code here: Initialize the parent class\n",
        "        super().__init__(image_dir, mask_dir, transform, None)\n",
        "\n",
        "    def __getitem__(self, idx):\n",
        "        # Your code here: Get the image path\n",
        "        img_name = self.images[idx]# Your code here\n",
        "        img_path = self.image_dir / img_name# Your code here\n",
        "        # Your code here: Get the mask path\n",
        "        mask_name = str(img_name.stem + \"_Segmentation.png\")# Your code here\n",
        "        mask_path = self.mask_dir / mask_name# Your code here\n",
        "\n",
        "        # Your code here: Open the image and convert to RGB\n",
        "        image = Image.open(img_path).convert(\"RGB\")# Your code here\n",
        "        # Your code here: Convert to numpy array for albumentations\n",
        "        image = np.array(image)# Your code here\n",
        "        # Your code here: Open the mask and convert to grayscale\n",
        "        mask = Image.open(mask_path).convert(\"L\")# Your code here\n",
        "        # Your code here: Convert to numpy array\n",
        "        mask = np.array(mask)# Your code here\n",
        "\n",
        "        # Your code here: Normalize mask to 0-1 range if needed\n",
        "        if mask.max() > 1:\n",
        "            # Your code here\n",
        "            mask = mask / 255.0\n",
        "\n",
        "        # Your code here: Apply transformations if provided\n",
        "        if self.img_transform:\n",
        "            # Your code here: Apply albumentations transform to both image and mask\n",
        "            aug = self.img_transform(image=image, mask=mask)# Your code here\n",
        "            image = aug['image']# Your code here\n",
        "            mask = aug['mask']# Your code here\n",
        "\n",
        "            # Your code here: Ensure mask is binary (0 or 1)\n",
        "            if isinstance(mask, torch.Tensor):\n",
        "                # Your code here\n",
        "                mask = (mask > 0.5).float()\n",
        "\n",
        "        return image, mask"
      ]
    },
    {
      "cell_type": "code",
      "execution_count": 23,
      "metadata": {
        "colab": {
          "base_uri": "https://localhost:8080/"
        },
        "id": "rskCy1Jg8gLE",
        "outputId": "388da231-f98e-4d91-8469-35fb4492c717"
      },
      "outputs": [
        {
          "output_type": "stream",
          "name": "stdout",
          "text": [
            "--------------------------------------------------------------------------------\n",
            "✅ inherits_from_isic is correct!\n",
            "✅ has_getitem_override is correct!\n",
            "✅ uses_numpy is correct!\n",
            "✅ normalizes_mask is correct!\n",
            "✅ ensures_binary is correct!\n",
            "\n",
            "🎉 Excellent! All parts are correct!\n"
          ]
        }
      ],
      "source": [
        "# ✅ Check Exercise 4: Albumentations Dataset Implementation\n",
        "answer = {\n",
        "    'inherits_from_isic': issubclass(ISICDatasetAlbumentations, ISICDataset),\n",
        "    'has_getitem_override': ISICDatasetAlbumentations.__getitem__ != ISICDataset.__getitem__,\n",
        "    'uses_numpy': 'np.array' in str(inspect.getsource(ISICDatasetAlbumentations.__getitem__)),\n",
        "    'normalizes_mask': 'mask /' in str(inspect.getsource(ISICDatasetAlbumentations.__getitem__)),\n",
        "    'ensures_binary': '> 0.5' in str(inspect.getsource(ISICDatasetAlbumentations.__getitem__))\n",
        "}\n",
        "checker.check_exercise(4, answer)"
      ]
    },
    {
      "cell_type": "markdown",
      "metadata": {
        "id": "3569lhZd8gLE"
      },
      "source": [
        "# 3.4 Splitting the Dataset into Train, and Validation Sets\n",
        "***\n",
        "Unfortunately, PyTorch `Dataset` class does not have a built-in method for splitting datasets. However, we can use the `torch.utils.data.random_split` function to split our dataset into training and validation sets. Then, we can create separate `DataLoader` instances for each split.\n",
        "\n",
        "***\n",
        "\n",
        "> <img src=\"https://github.com/CLDiego/uom_fse_dl_workshop/raw/main/figs/icons/code.svg\" width=\"20\"/> **Snippet 3**: Splitting the dataset into training and validation sets\n",
        "\n",
        "``` python\n",
        "from torch.utils.data import random_split\n",
        "\n",
        "train_ds, val_ds = random_split(dataset, [train_size, val_size])\n",
        "```"
      ]
    },
    {
      "cell_type": "code",
      "execution_count": 24,
      "metadata": {
        "id": "C3h9x9fb8gLE"
      },
      "outputs": [],
      "source": [
        "# Exercise 5: Splitting the Dataset into Train and Validation Sets 🎯\n",
        "# Implement:\n",
        "# 1. Split the dataset into training and validation sets (80% train, 20% valid).\n",
        "# 2. Create DataLoader objects for both sets with a batch size of 16.\n",
        "\n",
        "# Your code here: Create a dataset with the Albumentations transforms\n",
        "full_ds = ISICDatasetAlbumentations(\n",
        "    image_dir=dataset_path,\n",
        "    mask_dir=mask_path,\n",
        "    transform=train_img_ts\n",
        ")# Your code here\n",
        "\n",
        "# Your code here: Calculate sizes for train and validation splits (80/20 split)\n",
        "train_size = int(0.8 * len(full_ds))# Your code here\n",
        "valid_size = len(full_ds) - train_size# Your code here\n",
        "\n",
        "# Your code here: Split the dataset into training and validation sets\n",
        "train_ds, valid_ds = torch.utils.data.random_split(full_ds, [train_size, valid_size])# Your code here\n",
        "\n",
        "# Your code here: Create DataLoader for training set (with shuffling)\n",
        "train_dl = DataLoader(train_ds, batch_size=16, shuffle=True)# Your code here\n",
        "# Your code here: Create DataLoader for validation set (no shuffling)\n",
        "valid_dl = DataLoader(valid_ds, batch_size=16, shuffle=False)# Your code here"
      ]
    },
    {
      "cell_type": "code",
      "execution_count": 25,
      "metadata": {
        "colab": {
          "base_uri": "https://localhost:8080/"
        },
        "id": "kxPipQ4b8gLE",
        "outputId": "ed3e52f8-176e-4e84-91a6-85e0e3571406"
      },
      "outputs": [
        {
          "output_type": "stream",
          "name": "stdout",
          "text": [
            "--------------------------------------------------------------------------------\n",
            "✅ train_dataset is correct!\n",
            "✅ valid_dataset is correct!\n",
            "✅ train_dataloader is correct!\n",
            "✅ valid_dataloader is correct!\n",
            "✅ train_split_ratio is correct!\n",
            "✅ batch_size_correct is correct!\n",
            "\n",
            "🎉 Excellent! All parts are correct!\n"
          ]
        }
      ],
      "source": [
        "# ✅ Check Exercise 5: Dataset Splitting\n",
        "answer = {\n",
        "    'train_dataset': train_ds,\n",
        "    'valid_dataset': valid_ds,\n",
        "    'train_dataloader': train_dl,\n",
        "    'valid_dataloader': valid_dl,\n",
        "    'train_split_ratio': train_size / len(full_ds),\n",
        "    'batch_size_correct': train_dl.batch_size == 16\n",
        "}\n",
        "checker.check_exercise(5, answer)"
      ]
    },
    {
      "cell_type": "code",
      "execution_count": 26,
      "metadata": {
        "colab": {
          "base_uri": "https://localhost:8080/",
          "height": 301
        },
        "id": "Ro5F3aog8gLE",
        "outputId": "5e8d25dc-025b-4bf0-f42d-4ad9d5b6828c"
      },
      "outputs": [
        {
          "output_type": "display_data",
          "data": {
            "text/plain": [
              "<Figure size 2000x500 with 20 Axes>"
            ],
            "image/png": "[encoded data removed]"
          },
          "metadata": {}
        }
      ],
      "source": [
        "# Show a batch of images and masks\n",
        "utils.plotting.show_binary_segmentation_batch(train_dl,\n",
        "                                              n_images=10,\n",
        "                                              mean=mean,\n",
        "                                              std=std)"
      ]
    },
    {
      "cell_type": "markdown",
      "metadata": {
        "id": "SnMflX1D8gLE"
      },
      "source": [
        "# 4. Baseline Model: U-Net Architecture\n",
        "***\n",
        "\n",
        "> <img src=\"https://github.com/CLDiego/uom_fse_dl_workshop/raw/main/figs/icons/write.svg\" width=\"20\" /> **U-Net**: A convolutional neural network architecture designed for biomedical image segmentation. It consists of a contracting path (encoder) and an expansive path (decoder), allowing it to capture both context and localization information.\n",
        "\n",
        "The U-Net architecture is widely used in medical image segmentation tasks due to its ability to learn both local and global features. The architecture is shown below:\n",
        "\n",
        "<div align=\"center\">\n",
        "  <img src=\"https://github.com/CLDiego/uom_fse_dl_workshop/raw/main/figs/unet.png\" width=\"100%\">\n",
        "</div>\n",
        "\n",
        "The U-Net architecture consists of two main parts: the encoder and the decoder, connected by skip connections. Each component plays a specific role:\n",
        "\n",
        "| Component | Description | Purpose |\n",
        "|-----------|-------------|---------|\n",
        "| **Encoder (Contracting Path)** | Series of convolutional and pooling layers | Captures context and semantic information |\n",
        "| **Decoder (Expanding Path)** | Series of upsampling and convolutional layers | Enables precise localization |\n",
        "| **Skip Connections** | Connect encoder layers to decoder layers | Preserve spatial information lost during downsampling |\n",
        "| **Bottleneck** | Deepest layer connecting encoder and decoder | Captures the most complex features |\n",
        "\n",
        "## 4.1 Transposed Convolution\n",
        "***\n",
        "\n",
        "For this architecture we are going to use a special type of convolutional layer that upsamples the input feature maps. This layer is called a transposed convolutional layer (also known as a deconvolutional layer). It is used to increase the spatial dimensions of the input feature maps, allowing the model to learn more complex features.\n",
        "\n",
        "| Parameter | Description | Effect on Output |\n",
        "|-----------|-------------|-----------------|\n",
        "| **Kernel Size** | Size of the filter | Determines area of influence |\n",
        "| **Stride** | Step size of the filter | Controls amount of upsampling |\n",
        "| **Padding** | Zero-padding added to input | Affects output size |\n",
        "| **Output Padding** | Additional padding for output | Fine-tunes output dimensions |\n",
        "\n",
        "The formula for calculating the output size of a transposed convolutional layer is:\n",
        "\n",
        "$$\\text{Output Size} = (\\text{Input Size} - 1) \\times \\text{Stride} - 2 \\times \\text{Padding} + \\text{Kernel Size} + \\text{Output Padding}$$\n",
        "\n",
        "## 4.2 U-Net Implementation in PyTorch\n",
        "***\n",
        "We are going to implement the U-Net architecture using PyTorch. The implementation will consist of the following components:\n",
        "\n",
        "| Component | Description |\n",
        "|----------|-------------|\n",
        "| `DoubleConv` | A block that consists of two convolutional layers followed by batch normalization and ReLU activation. |\n",
        "| `Down` | A block that consists of a max pooling layer followed by a `DoubleConv` block. |\n",
        "| `Up` | A block that consists of a transposed convolutional layer followed by a `DoubleConv` block. |\n",
        "| `UNet` | The main U-Net architecture that consists of the encoder and decoder blocks. |"
      ]
    },
    {
      "cell_type": "code",
      "execution_count": 27,
      "metadata": {
        "id": "iMUmKsMr8gLE"
      },
      "outputs": [],
      "source": [
        "# Exercise 6: Implementing the DoubleConv Block 🎯\n",
        "# Implement:\n",
        "# 1. Create a class called DoubleConv that inherits from nn.Module.\n",
        "# 2. The constructor should take in the number of input channels and output channels.\n",
        "# 3. Implement the forward method to apply two convolutional layers with ReLU activation and batch normalization.\n",
        "# 4. Use kernel size 3 and padding 1 for both convolutional layers.\n",
        "class DoubleConv(torch.nn.Module):\n",
        "    def __init__(self, in_channels, out_channels):\n",
        "        # Your code here: Initialize parent class\n",
        "        super().__init__()\n",
        "        # Your code here: Create a sequential module with two conv layers, each followed by batch norm and ReLU\n",
        "        self.conv = torch.nn.Sequential(\n",
        "            torch.nn.Conv2d(in_channels, out_channels, kernel_size=3, padding=1),# Your code here: Conv2d with kernel_size=3, padding=1\n",
        "            torch.nn.BatchNorm2d(out_channels), # Your code here: BatchNorm2d\n",
        "            torch.nn.ReLU(inplace=True),# Your code here: ReLU(inplace=True)\n",
        "            torch.nn.Conv2d(out_channels, out_channels, kernel_size=3, padding=1),# Your code here: Conv2d with kernel_size=3, padding=1\n",
        "            torch.nn.BatchNorm2d(out_channels),# Your code here: BatchNorm2d\n",
        "            torch.nn.ReLU(inplace=True)# Your code here: ReLU(inplace=True)\n",
        "        )\n",
        "\n",
        "    def forward(self, x):\n",
        "        # Your code here: Apply the sequential module to the input\n",
        "        return self.conv(x)# Your code here\n"
      ]
    },
    {
      "cell_type": "code",
      "execution_count": 28,
      "metadata": {
        "colab": {
          "base_uri": "https://localhost:8080/"
        },
        "id": "sfdePc5m8gLF",
        "outputId": "8a6c180b-d220-4836-8725-b1d0b0a3642e"
      },
      "outputs": [
        {
          "output_type": "stream",
          "name": "stdout",
          "text": [
            "--------------------------------------------------------------------------------\n",
            "✅ has_forward is correct!\n",
            "✅ has_two_conv_layers is correct!\n",
            "✅ has_batch_norm is correct!\n",
            "✅ has_relu is correct!\n",
            "✅ uses_sequential is correct!\n",
            "\n",
            "🎉 Excellent! All parts are correct!\n"
          ]
        }
      ],
      "source": [
        "# ✅ Check Exercise 6: DoubleConv Block Implementation\n",
        "answer = {\n",
        "    'has_forward': hasattr(DoubleConv, 'forward'),\n",
        "    'has_two_conv_layers': str(DoubleConv(3, 64)).count('Conv2d') == 2,\n",
        "    'has_batch_norm': str(DoubleConv(3, 64)).count('BatchNorm2d') == 2,\n",
        "    'has_relu': str(DoubleConv(3, 64)).count('ReLU') == 2,\n",
        "    'uses_sequential': hasattr(DoubleConv(3, 64), 'conv') and isinstance(DoubleConv(3, 64).conv, torch.nn.Sequential)\n",
        "}\n",
        "checker.check_exercise(6, answer)"
      ]
    },
    {
      "cell_type": "code",
      "execution_count": 29,
      "metadata": {
        "id": "UFJXFJwi8gLF"
      },
      "outputs": [],
      "source": [
        "# Exercise 7: Implementing the Down Block 🎯\n",
        "# Implement:\n",
        "# 1. Create a class called Down that inherits from nn.Module.\n",
        "# 2. The constructor should take in the number of input channels and output channels.\n",
        "# 3. Implement the forward method to apply a max pooling layer followed by the DoubleConv block.\n",
        "# 4. Use a kernel size of 2 for the max pooling layer and stride of 2.\n",
        "class Down(torch.nn.Module):\n",
        "    def __init__(self, in_channels, out_channels):\n",
        "        # Your code here: Initialize parent class\n",
        "        super().__init__()\n",
        "        # Your code here: Create a sequential module with MaxPool2d followed by DoubleConv\n",
        "        self.maxpool_conv = torch.nn.Sequential(\n",
        "            torch.nn.MaxPool2d(2),# Your code here: MaxPool2d with kernel_size=2\n",
        "            DoubleConv(in_channels, out_channels)# Your code here: DoubleConv with in_channels and out_channels\n",
        "        )\n",
        "\n",
        "    def forward(self, x):\n",
        "        # Your code here: Apply the sequential module to the input\n",
        "        return self.maxpool_conv(x)# Your code here"
      ]
    },
    {
      "cell_type": "code",
      "execution_count": 30,
      "metadata": {
        "colab": {
          "base_uri": "https://localhost:8080/"
        },
        "id": "3A92nwOX8gLF",
        "outputId": "3d404229-2d0c-4bae-a8ab-f6bdef9ba249"
      },
      "outputs": [
        {
          "output_type": "stream",
          "name": "stdout",
          "text": [
            "--------------------------------------------------------------------------------\n",
            "✅ has_forward is correct!\n",
            "✅ has_maxpool is correct!\n",
            "✅ uses_doubleconv is correct!\n",
            "✅ uses_sequential is correct!\n",
            "\n",
            "🎉 Excellent! All parts are correct!\n"
          ]
        }
      ],
      "source": [
        "# ✅ Check Exercise 7: Down Block Implementation\n",
        "answer = {\n",
        "    'has_forward': hasattr(Down, 'forward'),\n",
        "    'has_maxpool': str(Down(3, 64)).count('MaxPool2d') == 1,\n",
        "    'uses_doubleconv': str(Down(3, 64)).count('DoubleConv') == 1,\n",
        "    'uses_sequential': hasattr(Down(3, 64), 'maxpool_conv') and isinstance(Down(3, 64).maxpool_conv, torch.nn.Sequential)\n",
        "}\n",
        "checker.check_exercise(7, answer)"
      ]
    },
    {
      "cell_type": "code",
      "execution_count": 31,
      "metadata": {
        "id": "L5Ni8CLp8gLF"
      },
      "outputs": [],
      "source": [
        "# Exercise 8: Implementing the Up Block 🎯\n",
        "# Implement:\n",
        "# 1. Create a class called Up that inherits from nn.Module.\n",
        "# 2. The constructor should take in the number of input channels and output channels.\n",
        "# 3. Implement the forward method to apply a transposed convolution followed by the DoubleConv block.\n",
        "# 4. Use a kernel size of 2 and stride of 2 for the transposed convolution.\n",
        "# 5. Ensure to concatenate the feature maps from the encoder and decoder paths.\n",
        "# 6. Handle the case where the sizes of the feature maps do not match by padding.\n",
        "# 7. Use the torch.functional.pad function to pad the feature maps before concatenation.\n",
        "\n",
        "class Up(torch.nn.Module):\n",
        "    def __init__(self, in_channels, out_channels):\n",
        "        # Your code here: Initialize parent class\n",
        "        super().__init__()\n",
        "        # Your code here: Create a transposed convolution with in_channels, in_channels//2\n",
        "        self.up = torch.nn.ConvTranspose2d(in_channels, in_channels // 2, kernel_size=2, stride=2)\n",
        " # Your code here\n",
        "        # Your code here: Create a DoubleConv with in_channels and out_channels\n",
        "        self.conv = DoubleConv(in_channels, out_channels)# Your code here\n",
        "\n",
        "    def forward(self, x1, x2):\n",
        "        # Your code here: Apply the transposed convolution to x1\n",
        "        x1 = self.up(x1)# Your code here\n",
        "\n",
        "        # Your code here: Calculate padding if needed to match dimensions\n",
        "        diffY = x2.size(2) - x1.size(2)# Your code here\n",
        "        diffX = x2.size(3) - x1.size(3)# Your code here\n",
        "\n",
        "        # Your code here: Pad x1 to match x2's dimensions\n",
        "        x1 = torch.nn.functional.pad(x1, [diffX // 2, diffX - diffX // 2,\n",
        "                                          diffY // 2, diffY - diffY // 2])# Your code here\n",
        "\n",
        "        # Your code here: Concatenate x1 and x2 along the channel dimension\n",
        "        x = torch.cat([x2, x1], dim=1)# Your code here\n",
        "        # Your code here: Apply the DoubleConv to the concatenated tensor\n",
        "        return self.conv(x)# Your code here"
      ]
    },
    {
      "cell_type": "code",
      "execution_count": 32,
      "metadata": {
        "colab": {
          "base_uri": "https://localhost:8080/"
        },
        "id": "kgAqcckj8gLF",
        "outputId": "99728461-21e8-4805-bb59-675aa7b0eee1"
      },
      "outputs": [
        {
          "output_type": "stream",
          "name": "stdout",
          "text": [
            "--------------------------------------------------------------------------------\n",
            "✅ has_forward is correct!\n",
            "✅ has_transpose_conv is correct!\n",
            "✅ uses_doubleconv is correct!\n",
            "✅ handles_size_mismatch is correct!\n",
            "✅ uses_concat is correct!\n",
            "\n",
            "🎉 Excellent! All parts are correct!\n"
          ]
        }
      ],
      "source": [
        "# ✅ Check Exercise 8: Up Block Implementation\n",
        "answer = {\n",
        "    'has_forward': hasattr(Up, 'forward'),\n",
        "    'has_transpose_conv': hasattr(Up(64, 32), 'up') and isinstance(Up(64, 32).up, torch.nn.ConvTranspose2d),\n",
        "    'uses_doubleconv': hasattr(Up(64, 32), 'conv') and isinstance(Up(64, 32).conv, DoubleConv),\n",
        "    'handles_size_mismatch': 'diffY' in str(inspect.getsource(Up.forward)),\n",
        "    'uses_concat': 'torch.cat' in str(inspect.getsource(Up.forward))\n",
        "}\n",
        "checker.check_exercise(8, answer)"
      ]
    },
    {
      "cell_type": "code",
      "execution_count": 33,
      "metadata": {
        "id": "eg6-freE8gLF"
      },
      "outputs": [],
      "source": [
        "# Exercise 9: Implementing the UNet Model 🎯\n",
        "# Implement:\n",
        "# 1. Create a class called UNet that inherits from nn.Module.\n",
        "# 2. The constructor should take in the number of input channels and output channels.\n",
        "# 3. Implement the forward method to define the architecture of the UNet model.\n",
        "# 4. Use the DoubleConv, Down, and Up classes to build the encoder and decoder paths.\n",
        "# 5. Ensure to include skip connections between the encoder and decoder paths.\n",
        "# 6. Use a final convolutional layer to produce the output.\n",
        "# 7. Use a kernel size of 1 for the final convolutional layer.\n",
        "# 8. Apply a sigmoid activation function to the output layer.\n",
        "\n",
        "class UNet(torch.nn.Module):\n",
        "    def __init__(self, in_channels=3, out_channels=1):\n",
        "        # Your code here: Initialize parent class\n",
        "        super().__init__()\n",
        "\n",
        "        # Initial convolution\n",
        "        # Your code here: Create a DoubleConv with in_channels and 64 output channels\n",
        "        self.inc = DoubleConv(in_channels, 64)# Your code here\n",
        "\n",
        "        # Encoder path\n",
        "        # Your code here: Create Down modules with increasing channel depths\n",
        "        self.down1 = Down(64, 128)# Your code here: 64 -> 128\n",
        "        self.down2 = Down(128, 256)# Your code here: 128 -> 256\n",
        "        self.down3 = Down(256,512)# Your code here: 256 -> 512\n",
        "        self.down4 = Down(512, 1024)# Your code here: 512 -> 1024\n",
        "\n",
        "        # Decoder path\n",
        "        # Your code here: Create Up modules with decreasing channel depths\n",
        "        self.up1 = Up(1024, 512)# Your code here: 1024 -> 512\n",
        "        self.up2 = Up(512, 256)# Your code here: 512 -> 256\n",
        "        self.up3 = Up(256, 128)# Your code here: 256 -> 128\n",
        "        self.up4 = Up(128, 64)# Your code here: 128 -> 64\n",
        "\n",
        "        # Output layer\n",
        "        # Your code here: Create Conv2d with 64 input channels, out_channels output channels, and kernel_size=1\n",
        "        self.outc = torch.nn.Conv2d(64, out_channels, kernel_size=1)# Your code here\n",
        "\n",
        "    def forward(self, x):\n",
        "        # Encoder\n",
        "        # Your code here: Apply inc to input\n",
        "        x1 = self.inc(x)# Your code here\n",
        "        # Your code here: Apply down1 to x1\n",
        "        x2 = self.down1(x1)# Your code here\n",
        "        # Your code here: Apply down2 to x2\n",
        "        x3 = self.down2(x2)# Your code here\n",
        "        # Your code here: Apply down3 to x3\n",
        "        x4 = self.down3(x3)# Your code here\n",
        "        # Your code here: Apply down4 to x4\n",
        "        x5 = self.down4(x4)# Your code here\n",
        "\n",
        "        # Decoder with skip connections\n",
        "        # Your code here: Apply up1 to x5 and x4\n",
        "        x = self.up1(x5,x4)# Your code here\n",
        "        # Your code here: Apply up2 to x and x3\n",
        "        x = self.up2(x, x3)# Your code here\n",
        "        # Your code here: Apply up3 to x and x2\n",
        "        x = self.up3(x, x2)# Your code here\n",
        "        # Your code here: Apply up4 to x and x1\n",
        "        x = self.up4(x, x1)# Your code here\n",
        "\n",
        "        # Output layer\n",
        "        # Your code here: Apply outc to x\n",
        "        output = self.outc(x)# Your code here\n",
        "        # Your code here: Apply sigmoid activation\n",
        "        return torch.nn.functional.sigmoid(output)# Your code here\n"
      ]
    },
    {
      "cell_type": "code",
      "execution_count": 34,
      "metadata": {
        "colab": {
          "base_uri": "https://localhost:8080/"
        },
        "id": "wb3Mflfw8gLF",
        "outputId": "cede4a40-c05b-46d5-da43-983711fb6612"
      },
      "outputs": [
        {
          "output_type": "stream",
          "name": "stdout",
          "text": [
            "--------------------------------------------------------------------------------\n",
            "✅ has_forward is correct!\n",
            "✅ has_encoder_path is correct!\n",
            "✅ has_decoder_path is correct!\n",
            "✅ has_final_conv is correct!\n",
            "✅ uses_sigmoid is correct!\n",
            "\n",
            "🎉 Excellent! All parts are correct!\n"
          ]
        }
      ],
      "source": [
        "# ✅ Check Exercise 9: UNet Model Implementation\n",
        "answer = {\n",
        "    'has_forward': hasattr(UNet, 'forward'),\n",
        "    'has_encoder_path': hasattr(UNet(3, 1), 'inc') and hasattr(UNet(3, 1), 'down1'),\n",
        "    'has_decoder_path': hasattr(UNet(3, 1), 'up1') and hasattr(UNet(3, 1), 'up4'),\n",
        "    'has_final_conv': hasattr(UNet(3, 1), 'outc') and isinstance(UNet(3, 1).outc, torch.nn.Conv2d),\n",
        "    'uses_sigmoid': 'sigmoid' in str(inspect.getsource(UNet.forward))\n",
        "}\n",
        "checker.check_exercise(9, answer)"
      ]
    },
    {
      "cell_type": "markdown",
      "metadata": {
        "id": "3KWzJEA-8gLG"
      },
      "source": [
        "## 4.3 Segmentation Loss Functions\n",
        "***\n",
        "While we can use a simple loss function like binary cross-entropy for segmentation tasks since we are dealing with binary masks, it is often not sufficient. This is because the model may learn to predict the background class (0) more often than the foreground class (1), leading to poor performance on the actual segmentation task.\n",
        "\n",
        "To address this, we are going to introduce a more sophisticated loss function called the **Dice Loss**. The Dice Loss is based on the Dice coefficient, which measures the overlap between two sets. It is defined as:\n",
        "\n",
        "$$\n",
        "\\text{Dice} = \\frac{2 |X \\cap Y|}{|X| + |Y|}$$\n",
        "\n",
        "Where:\n",
        "- $X$ is the predicted segmentation mask\n",
        "- $Y$ is the ground truth segmentation mask\n",
        "- $|X|$ is the number of pixels in the predicted mask\n",
        "- $|Y|$ is the number of pixels in the ground truth mask\n",
        "- $|X \\cap Y|$ is the number of pixels in the intersection of the predicted and ground truth masks\n",
        "\n",
        "<div align=\"center\">\n",
        "  <img src=\"https://github.com/CLDiego/uom_fse_dl_workshop/raw/main/figs/dice.png\" width=\"80%\">\n",
        "</div>\n",
        "\n",
        "The Dice Loss is defined as:\n",
        "\n",
        "$$\n",
        "\\text{Dice Loss} = 1 - \\text{Dice}\n",
        "$$\n",
        "\n",
        "### 4.3.1 Comparison of Segmentation Loss Functions\n",
        "***\n",
        "\n",
        "<table>\n",
        "  <tr>\n",
        "    <th>Loss Function</th>\n",
        "    <th style=\"min-width: 300px;\">Formula</th>\n",
        "    <th>Advantages</th>\n",
        "    <th>Disadvantages</th>\n",
        "  </tr>\n",
        "  <tr>\n",
        "    <td><b>Binary Cross-Entropy</b></td>\n",
        "    <td>$$ -\\sum(y\\log(\\hat{y}) + (1-y)\\log(1-\\hat{y})) $$</td>\n",
        "    <td>Easy to implement, works well for balanced classes</td>\n",
        "    <td>Poor performance with class imbalance</td>\n",
        "  </tr>\n",
        "  <tr>\n",
        "    <td><b>Dice Loss</b></td>\n",
        "    <td>$$ 1 - \\frac{2\\|X \\cap Y\\|}{\\|X\\| + \\|Y\\|} $$</td>\n",
        "    <td>Handles class imbalance well, directly optimizes overlap</td>\n",
        "    <td>May get stuck in local minima</td>\n",
        "  </tr>\n",
        "  <tr>\n",
        "    <td><b>Focal Loss</b></td>\n",
        "    <td>$$ -\\alpha(1-\\hat{y})^\\gamma y\\log(\\hat{y}) $$</td>\n",
        "    <td>Focuses on hard examples, addresses class imbalance</td>\n",
        "    <td>Requires tuning of hyperparameters</td>\n",
        "  </tr>\n",
        "  <tr>\n",
        "    <td><b>IoU Loss</b></td>\n",
        "    <td>$$ 1 - \\frac{\\|X \\cap Y\\|}{\\|X \\cup Y\\|} $$</td>\n",
        "    <td>Directly optimizes intersection over union</td>\n",
        "    <td>Can be unstable for small regions</td>\n",
        "  </tr>\n",
        "  <tr>\n",
        "    <td><b>Combo Loss</b></td>\n",
        "    <td>$$ \\alpha\\cdot \\text{BCE} + (1-\\alpha)\\cdot \\text{Dice} $$</td>\n",
        "    <td>Combines benefits of both BCE and Dice</td>\n",
        "    <td>Requires tuning of weighting parameter</td>\n",
        "  </tr>\n",
        "</table>\n",
        "\n",
        "This loss function is particularly useful for imbalanced datasets, where the number of pixels in the foreground class is much smaller than the number of pixels in the background class. The Dice Loss penalizes the model more for misclassifying foreground pixels than background pixels, leading to better performance on the segmentation task."
      ]
    },
    {
      "cell_type": "code",
      "execution_count": 35,
      "metadata": {
        "id": "1x7vG_2O8gLG"
      },
      "outputs": [],
      "source": [
        "# Exercise 10: Implementing the Dice Loss Function 🎯\n",
        "# Implement:\n",
        "# 1. Create a class called DiceLoss that inherits from nn.Module.\n",
        "# 2. The constructor should take in a smoothing factor (default: 1.0).\n",
        "# 3. Implement the forward method to calculate the Dice loss.\n",
        "# 4. Ensure the inputs are properly shaped (flattened).\n",
        "\n",
        "class DiceLoss(torch.nn.Module):\n",
        "    def __init__(self, smooth=1.0):\n",
        "        # Your code here: Initialize parent class\n",
        "        super().__init__()\n",
        "        # Your code here: Store the smoothing factor\n",
        "        self.smooth = smooth# Your code here\n",
        "\n",
        "    def forward(self, y_pred, y_true):\n",
        "        # Your code here: Flatten the prediction and target tensors to 1D\n",
        "        y_pred = y_pred.view(-1)# Your code here\n",
        "        # Your code here: Convert target tensor to float if needed\n",
        "        y_true = y_true.view(-1).float()# Your code here\n",
        "\n",
        "        # Your code here: Calculate intersection (sum of element-wise multiplication)\n",
        "        intersection = (y_pred * y_true).sum()# Your code here\n",
        "        # Your code here: Calculate union (sum of y_pred + sum of y_true)\n",
        "        union = y_pred.sum() + y_true.sum()# Your code here\n",
        "\n",
        "        # Your code here: Calculate Dice coefficient with smoothing factor\n",
        "        dice = (2. * intersection + self.smooth) / (union + self.smooth)# Your code here: (2*intersection + smooth)/(union + smooth)\n",
        "\n",
        "        # Your code here: Return loss (1 - dice), clamped between 0 and 1\n",
        "        return torch.clamp(1 - dice, 0.0, 1.0)# Your code here"
      ]
    },
    {
      "cell_type": "code",
      "execution_count": 36,
      "metadata": {
        "colab": {
          "base_uri": "https://localhost:8080/"
        },
        "id": "ChvPipEF8gLG",
        "outputId": "bf2733a4-9122-4729-870f-a9c8af4e06c7"
      },
      "outputs": [
        {
          "output_type": "stream",
          "name": "stdout",
          "text": [
            "--------------------------------------------------------------------------------\n",
            "✅ has_forward is correct!\n",
            "✅ handles_flattening is correct!\n",
            "✅ calculates_intersection is correct!\n",
            "✅ uses_smoothing is correct!\n",
            "✅ returns_1_minus_dice is correct!\n",
            "\n",
            "🎉 Excellent! All parts are correct!\n"
          ]
        }
      ],
      "source": [
        "# ✅ Check Exercise 10: Dice Loss Implementation\n",
        "answer = {\n",
        "    'has_forward': hasattr(DiceLoss, 'forward'),\n",
        "    'handles_flattening': 'view(-1)' in str(inspect.getsource(DiceLoss.forward)),\n",
        "    'calculates_intersection': 'intersection' in str(inspect.getsource(DiceLoss.forward)),\n",
        "    'uses_smoothing': hasattr(DiceLoss(), 'smooth') and 'self.smooth' in str(inspect.getsource(DiceLoss.forward)),\n",
        "    'returns_1_minus_dice': '1 -' in str(inspect.getsource(DiceLoss.forward))\n",
        "}\n",
        "checker.check_exercise(10, answer)"
      ]
    },
    {
      "cell_type": "code",
      "execution_count": 37,
      "metadata": {
        "colab": {
          "base_uri": "https://localhost:8080/",
          "height": 420,
          "referenced_widgets": [
            "3f0fb3fb4bab40fca5aa075cfdffe253",
            "4d30fcc897e246b4ad3f12b00daba2fd",
            "76f040c8fa834ae3a1e062eebd94b29d",
            "9e2ea74879864a90b0138c9a90c30a78",
            "1d8221e499fb49bfa3dd0e7c11bdf5f0",
            "d73baee671a645d8ba9da6e3f5de255e",
            "3d2ad19ff7fd49949e77b86811600ede",
            "38f327e518944200a386142c5c42f07a",
            "93a8c751f69f4b858a41cb22f08b8c50",
            "e899b801c4c74f3684531dd47e69bacb",
            "74139b6952dc4d0c9901cfe32d1b2452",
            "728b829f42c0470eb8a6be67be7c3f7c",
            "e06f9f9d7be9416d838e1a3ee93f0333",
            "b535bfd5c5d345a58b37a5ff0c0f6492",
            "a09b96d32c2e4f2aaa9978219485574b",
            "b7730b2d4411452d9706bfc2238209ad",
            "0b5ffd5ec41b4949863ef65c2f36b7ca",
            "4835f72b8e8240758991748c9ad66a11",
            "4a7845e062be4124a2565697f6433e6c",
            "a896e8121d3c44c0a745d988d7901845",
            "87f5d8c60be248aa8fe95133e7644ef9",
            "b0380a1c40da4edb8795ff63f17674ba"
          ]
        },
        "id": "RbPgwssc8gLG",
        "outputId": "df82022c-b60e-48dd-a3d7-bf6b7165453d"
      },
      "outputs": [
        {
          "output_type": "display_data",
          "data": {
            "text/plain": [
              "UNet Training:   0%|          | 0/2 [00:00<?, ?it/s]"
            ],
            "application/vnd.jupyter.widget-view+json": {
              "version_major": 2,
              "version_minor": 0,
              "model_id": "3f0fb3fb4bab40fca5aa075cfdffe253"
            }
          },
          "metadata": {}
        },
        {
          "output_type": "display_data",
          "data": {
            "text/plain": [
              "Training Batch 0/45:   0%|          | 0/45 [00:00<?, ?it/s]"
            ],
            "application/vnd.jupyter.widget-view+json": {
              "version_major": 2,
              "version_minor": 0,
              "model_id": "728b829f42c0470eb8a6be67be7c3f7c"
            }
          },
          "metadata": {}
        },
        {
          "output_type": "error",
          "ename": "KeyboardInterrupt",
          "evalue": "",
          "traceback": [
            "\u001b[0;31m---------------------------------------------------------------------------\u001b[0m",
            "\u001b[0;31mKeyboardInterrupt\u001b[0m                         Traceback (most recent call last)",
            "\u001b[0;32m<ipython-input-37-1667410372>\u001b[0m in \u001b[0;36m<cell line: 0>\u001b[0;34m()\u001b[0m\n\u001b[1;32m      7\u001b[0m \u001b[0;31m# model = train_model(model, train_dl, valid_dl, criterion, optimizer, num_epochs)\u001b[0m\u001b[0;34m\u001b[0m\u001b[0;34m\u001b[0m\u001b[0m\n\u001b[1;32m      8\u001b[0m \u001b[0;34m\u001b[0m\u001b[0m\n\u001b[0;32m----> 9\u001b[0;31m model_v1 = utils.ml.train_model(\n\u001b[0m\u001b[1;32m     10\u001b[0m     \u001b[0mmodel\u001b[0m\u001b[0;34m=\u001b[0m\u001b[0mmodel\u001b[0m\u001b[0;34m,\u001b[0m\u001b[0;34m\u001b[0m\u001b[0;34m\u001b[0m\u001b[0m\n\u001b[1;32m     11\u001b[0m     \u001b[0mcriterion\u001b[0m\u001b[0;34m=\u001b[0m\u001b[0mcriterion\u001b[0m\u001b[0;34m,\u001b[0m\u001b[0;34m\u001b[0m\u001b[0;34m\u001b[0m\u001b[0m\n",
            "\u001b[0;32m/content/utils/ml/training.py\u001b[0m in \u001b[0;36mtrain_model\u001b[0;34m(model, criterion, optimiser, **kwargs)\u001b[0m\n\u001b[1;32m    132\u001b[0m             \u001b[0moutputs\u001b[0m \u001b[0;34m=\u001b[0m \u001b[0mmodel\u001b[0m\u001b[0;34m(\u001b[0m\u001b[0minputs\u001b[0m\u001b[0;34m)\u001b[0m\u001b[0;34m\u001b[0m\u001b[0;34m\u001b[0m\u001b[0m\n\u001b[1;32m    133\u001b[0m             \u001b[0mloss\u001b[0m \u001b[0;34m=\u001b[0m \u001b[0mcriterion\u001b[0m\u001b[0;34m(\u001b[0m\u001b[0moutputs\u001b[0m\u001b[0;34m,\u001b[0m \u001b[0mtargets\u001b[0m\u001b[0;34m)\u001b[0m\u001b[0;34m\u001b[0m\u001b[0;34m\u001b[0m\u001b[0m\n\u001b[0;32m--> 134\u001b[0;31m             \u001b[0mloss\u001b[0m\u001b[0;34m.\u001b[0m\u001b[0mbackward\u001b[0m\u001b[0;34m(\u001b[0m\u001b[0;34m)\u001b[0m\u001b[0;34m\u001b[0m\u001b[0;34m\u001b[0m\u001b[0m\n\u001b[0m\u001b[1;32m    135\u001b[0m             \u001b[0moptimiser\u001b[0m\u001b[0;34m.\u001b[0m\u001b[0mstep\u001b[0m\u001b[0;34m(\u001b[0m\u001b[0;34m)\u001b[0m\u001b[0;34m\u001b[0m\u001b[0;34m\u001b[0m\u001b[0m\n\u001b[1;32m    136\u001b[0m \u001b[0;34m\u001b[0m\u001b[0m\n",
            "\u001b[0;32m/usr/local/lib/python3.11/dist-packages/torch/_tensor.py\u001b[0m in \u001b[0;36mbackward\u001b[0;34m(self, gradient, retain_graph, create_graph, inputs)\u001b[0m\n\u001b[1;32m    624\u001b[0m                 \u001b[0minputs\u001b[0m\u001b[0;34m=\u001b[0m\u001b[0minputs\u001b[0m\u001b[0;34m,\u001b[0m\u001b[0;34m\u001b[0m\u001b[0;34m\u001b[0m\u001b[0m\n\u001b[1;32m    625\u001b[0m             )\n\u001b[0;32m--> 626\u001b[0;31m         torch.autograd.backward(\n\u001b[0m\u001b[1;32m    627\u001b[0m             \u001b[0mself\u001b[0m\u001b[0;34m,\u001b[0m \u001b[0mgradient\u001b[0m\u001b[0;34m,\u001b[0m \u001b[0mretain_graph\u001b[0m\u001b[0;34m,\u001b[0m \u001b[0mcreate_graph\u001b[0m\u001b[0;34m,\u001b[0m \u001b[0minputs\u001b[0m\u001b[0;34m=\u001b[0m\u001b[0minputs\u001b[0m\u001b[0;34m\u001b[0m\u001b[0;34m\u001b[0m\u001b[0m\n\u001b[1;32m    628\u001b[0m         )\n",
            "\u001b[0;32m/usr/local/lib/python3.11/dist-packages/torch/autograd/__init__.py\u001b[0m in \u001b[0;36mbackward\u001b[0;34m(tensors, grad_tensors, retain_graph, create_graph, grad_variables, inputs)\u001b[0m\n\u001b[1;32m    345\u001b[0m     \u001b[0;31m# some Python versions print out the first line of a multi-line function\u001b[0m\u001b[0;34m\u001b[0m\u001b[0;34m\u001b[0m\u001b[0m\n\u001b[1;32m    346\u001b[0m     \u001b[0;31m# calls in the traceback and some print out the last line\u001b[0m\u001b[0;34m\u001b[0m\u001b[0;34m\u001b[0m\u001b[0m\n\u001b[0;32m--> 347\u001b[0;31m     _engine_run_backward(\n\u001b[0m\u001b[1;32m    348\u001b[0m         \u001b[0mtensors\u001b[0m\u001b[0;34m,\u001b[0m\u001b[0;34m\u001b[0m\u001b[0;34m\u001b[0m\u001b[0m\n\u001b[1;32m    349\u001b[0m         \u001b[0mgrad_tensors_\u001b[0m\u001b[0;34m,\u001b[0m\u001b[0;34m\u001b[0m\u001b[0;34m\u001b[0m\u001b[0m\n",
            "\u001b[0;32m/usr/local/lib/python3.11/dist-packages/torch/autograd/graph.py\u001b[0m in \u001b[0;36m_engine_run_backward\u001b[0;34m(t_outputs, *args, **kwargs)\u001b[0m\n\u001b[1;32m    821\u001b[0m         \u001b[0munregister_hooks\u001b[0m \u001b[0;34m=\u001b[0m \u001b[0m_register_logging_hooks_on_whole_graph\u001b[0m\u001b[0;34m(\u001b[0m\u001b[0mt_outputs\u001b[0m\u001b[0;34m)\u001b[0m\u001b[0;34m\u001b[0m\u001b[0;34m\u001b[0m\u001b[0m\n\u001b[1;32m    822\u001b[0m     \u001b[0;32mtry\u001b[0m\u001b[0;34m:\u001b[0m\u001b[0;34m\u001b[0m\u001b[0;34m\u001b[0m\u001b[0m\n\u001b[0;32m--> 823\u001b[0;31m         return Variable._execution_engine.run_backward(  # Calls into the C++ engine to run the backward pass\n\u001b[0m\u001b[1;32m    824\u001b[0m             \u001b[0mt_outputs\u001b[0m\u001b[0;34m,\u001b[0m \u001b[0;34m*\u001b[0m\u001b[0margs\u001b[0m\u001b[0;34m,\u001b[0m \u001b[0;34m**\u001b[0m\u001b[0mkwargs\u001b[0m\u001b[0;34m\u001b[0m\u001b[0;34m\u001b[0m\u001b[0m\n\u001b[1;32m    825\u001b[0m         )  # Calls into the C++ engine to run the backward pass\n",
            "\u001b[0;31mKeyboardInterrupt\u001b[0m: "
          ]
        }
      ],
      "source": [
        "# Initialize the model, criterion, and optimizer\n",
        "\n",
        "model = UNet(in_channels=3, out_channels=1).to(device)\n",
        "criterion = DiceLoss()\n",
        "optimiser = torch.optim.Adam(model.parameters(), lr=1e-3)\n",
        "num_epochs = 2\n",
        "# model = train_model(model, train_dl, valid_dl, criterion, optimizer, num_epochs)\n",
        "\n",
        "model_v1 = utils.ml.train_model(\n",
        "    model=model,\n",
        "    criterion=criterion,\n",
        "    optimiser=optimiser,\n",
        "    train_loader=train_dl,\n",
        "    val_loader=valid_dl,\n",
        "    num_epochs=num_epochs,\n",
        "    early_stopping=True,\n",
        "    patience=3,\n",
        "    save_path= Path.cwd() / \"my_models\" / \"se05_model_v1.pt\",\n",
        "    plot_loss=True,\n",
        ")"
      ]
    },
    {
      "cell_type": "code",
      "execution_count": null,
      "metadata": {
        "id": "p5TMzzIB8gLG"
      },
      "outputs": [],
      "source": [
        "# Show a batch of images and masks\n",
        "test_ds = ISICDatasetAlbumentations(\n",
        "    image_dir=test_path,\n",
        "    mask_dir=test_mask_path,\n",
        "    transform=valid_img_ts\n",
        ")\n",
        "test_dl = DataLoader(test_ds, batch_size=16, shuffle=True)\n",
        "\n",
        "utils.plotting.show_binary_segmentation_predictions(model_v1, test_dl, n_images=10, mean=mean, std=std)"
      ]
    },
    {
      "cell_type": "markdown",
      "metadata": {
        "id": "4KHqOwN78gLG"
      },
      "source": [
        "# 5. Transfer Learning with Pre-trained Models\n",
        "***\n",
        "In essence, the process of transfer learning involves taking a model that has been trained on a large dataset (the source domain) and adapting it to a new, smaller dataset (the target domain). This is done by reusing the learned features from the source model and fine-tuning them for the target task. The most common approach is to use the pre-trained model as a feature extractor, where the lower layers of the model are frozen and using a classifier head that is trained on the new dataset.\n",
        "\n",
        "The process can be visualized as follows:\n",
        "\n",
        "<div align=\"center\">\n",
        "  <img src=\"https://github.com/CLDiego/uom_fse_dl_workshop/raw/main/figs/transfer_custom.png\" width=\"70%\">\n",
        "</div>\n",
        "\n",
        "## 5.1 Pre-trained Models for Computer Vision\n",
        "***\n",
        "\n",
        "Several pre-trained models are available for computer vision tasks. Each has its own architecture, number of parameters, and performance characteristics:\n",
        "\n",
        "| Model | Parameters | Input Size | Year | Top-1 Accuracy (ImageNet) | Architecture Highlights |\n",
        "|-------|------------|------------|------|---------------------------|-------------------------|\n",
        "| **ResNet** | 11.7M - 60M | 224×224 | 2015 | 76.1% - 80.6% | Residual connections to combat vanishing gradients |\n",
        "| **VGG** | 138M - 144M | 224×224 | 2014 | 71.3% - 75.6% | Simple architecture with small filters (3×3) |\n",
        "| **Inception** | 6.8M - 54M | 299×299 | 2014 | 77.5% - 82.8% | Multi-scale processing with parallel paths |\n",
        "| **DenseNet** | 8M - 44M | 224×224 | 2017 | 74.5% - 79.5% | Dense connections between layers for feature reuse |\n",
        "| **EfficientNet** | 5.3M - 66M | 224×224 - 600×600 | 2019 | 78.8% - 85.7% | Balanced scaling of depth, width, and resolution |\n",
        "| **MobileNet** | 4.2M - 6.9M | 224×224 | 2017 | 70.6% - 75.2% | Designed for mobile devices with depthwise separable convolutions |\n",
        "\n",
        "In this section, we are going to use a pre-trained model for the segmentation task. We are going to use an EfficientNet model that has been pre-trained on the ImageNet dataset. The EfficientNet model is a state-of-the-art convolutional neural network architecture that achieves high accuracy with fewer parameters compared to other architectures.\n",
        "\n",
        "<div align=\"center\">\n",
        "  <img src=\"https://github.com/CLDiego/uom_fse_dl_workshop/raw/main/figs/efficient.png\" width=\"90%\">\n",
        "</div>\n",
        "\n",
        "## 5.2 Transfer Learning Process\n",
        "***\n",
        "\n",
        "The typical transfer learning workflow consists of these steps:\n",
        "\n",
        "| Step | Description | Technique |\n",
        "|------|-------------|-----------|\n",
        "| **1. Select Source Model** | Choose a pre-trained model relevant to your target task | Select models trained on large datasets like ImageNet |\n",
        "| **2. Feature Extraction** | Use the pre-trained model as a fixed feature extractor | Freeze pre-trained layers, replace and retrain output layers |\n",
        "| **3. Fine-tuning** | Carefully adapt pre-trained weights to the new task | Gradually unfreeze layers, train with lower learning rates |\n",
        "| **4. Model Adaptation** | Modify architecture if needed for the target task | Add or remove layers as needed for the new domain |\n",
        "\n",
        "\n",
        "## 5.3 Types of Transfer Learning\n",
        "***\n",
        "\n",
        "There are several approaches to implementing transfer learning:\n",
        "\n",
        "| Approach | Description | Best Used When |\n",
        "|----------|-------------|---------------|\n",
        "| **Feature Extraction** | Freeze pre-trained network, replace and retrain classifier | Target task is similar but dataset is small |\n",
        "| **Fine-Tuning** | Retrain some or all layers of pre-trained network | Target task has sufficient data but benefits from pre-training |\n",
        "| **One-shot Learning** | Learn from just one or very few examples | Extreme data scarcity |\n",
        "| **Domain Adaptation** | Adapt to new data distribution without labels | Source and target domains have distribution shift |\n",
        "| **Multi-task Learning** | Train model on multiple related tasks simultaneously | Related tasks can benefit from shared representations |\n",
        "\n",
        "## 5.4 EfficientNet as an Encoder\n",
        "***\n",
        "\n",
        "The EfficientNet model is going to act as the encoder part of the U-Net architecture. We are going to replace the encoder part of the U-Net architecture with the EfficientNet model. The decoder part of the U-Net architecture will remain the same.\n",
        "\n",
        "<div align=\"center\">\n",
        "  <img src=\"https://github.com/CLDiego/uom_fse_dl_workshop/raw/main/figs/unet_efficient.png\" width=\"100%\">\n",
        "</div>\n",
        "\n",
        "### 5.4.1 Transfer Learning Process for Segmentation\n",
        "***\n",
        "\n",
        "| Step | Description | Implementation Detail |\n",
        "|------|-------------|----------------------|\n",
        "| **1. Extract Encoder** | Use pre-trained EfficientNet as encoder | Remove classification head |\n",
        "| **2. Add Decoder** | Create U-Net style decoder | Transposed convolutions with skip connections |\n",
        "| **3. Freeze Weights** | Prevent pre-trained encoder from changing | Set `requires_grad=False` on encoder layers |\n",
        "| **4. Train Decoder** | Train only the decoder initially | Optimize only unfrozen parameters |\n",
        "| **5. Fine-tune (Optional)** | Gradually unfreeze encoder layers | Use lower learning rate for pre-trained layers |\n",
        "\n",
        "***\n",
        "\n",
        "> <img src=\"https://github.com/CLDiego/uom_fse_dl_workshop/raw/main/figs/icons/code.svg\" width=\"20\"/> **Snippet 4**: Loading the EfficientNet model and freezing layers\n",
        "\n",
        "``` python\n",
        "from torchvision import models as tvm\n",
        "\n",
        "efficientnet = tvm.efficientnet_b0(weights='IMAGENET1K_V1')\n",
        "efficientnet = efficientnet.features  # Extract the feature extractor part\n",
        "efficientnet = torch.nn.Sequential(*list(efficientnet.children())[:-1])  # Remove the classification head\n",
        "\n",
        "for param in efficientnet.parameters():\n",
        "    param.requires_grad = False  # Freeze all layers\n",
        "```"
      ]
    },
    {
      "cell_type": "code",
      "execution_count": 38,
      "metadata": {
        "id": "b8E5A3uS8gLG"
      },
      "outputs": [],
      "source": [
        "# Exercise 11: Implementing U-Net with EfficientNet Encoder 🎯\n",
        "# Implement:\n",
        "# 1. Create a new Up class called SmartUp that inherits from nn.Module.\n",
        "# 2. The constructor should take in the number of input channels, skip channels, and output channels.\n",
        "# 3. Implement the forward method to apply a transposed convolution followed by the DoubleConv block.\n",
        "# 4. Ensure to concatenate the feature maps from the encoder and decoder paths.\n",
        "# 5. Handle the case where the sizes of the feature maps do not match by interpolation.\n",
        "# 6. Use the torch.nn.functional.interpolate function to resize the feature maps before concatenation.\n",
        "# 7. Use the torchvision.models.efficientnet_b0 model as the encoder.\n",
        "# 8. Extract the feature layers from the EfficientNet model and use them in the UNet architecture.\n",
        "# 9. Freeze the encoder layers to preserve the pretrained weights.\n",
        "# 10. Use the DoubleConv block for the center bottleneck and decoder path.\n",
        "# 11. Ensure to include skip connections between the encoder and decoder paths.\n",
        "# 12. Use a final convolutional layer to produce the output.\n",
        "# 13. Apply a sigmoid activation function to the output layer.\n",
        "\n",
        "import torchvision.models as tvm\n",
        "\n",
        "class SmartUp(torch.nn.Module):\n",
        "    def __init__(self, in_channels, skip_channels, out_channels):\n",
        "        # Your code here: Initialize parent class\n",
        "        super(SmartUp, self).__init__()\n",
        "        # Your code here: Create a transposed convolution\n",
        "        self.up = torch.nn.ConvTranspose2d(in_channels, skip_channels, kernel_size=2, stride=2) # Your code here: ConvTranspose2d with in_channels, skip_channels, kernel_size=2, stride=2\n",
        "        # Your code here: Create a DoubleConv with skip_channels*2 (for concatenation) and out_channels\n",
        "        self.conv = DoubleConv(skip_channels * 2, out_channels) # Your code here\n",
        "\n",
        "    def forward(self, x1, x2):\n",
        "        # Your code here: Apply transposed convolution to x1\n",
        "        x1 = self.up(x1)# Your code here\n",
        "\n",
        "        # Your code here: Handle size mismatches with interpolation\n",
        "        if x1.size()[2:] != x2.size()[2:]:\n",
        "            # Your code here: Use nn.functional.interpolate to resize x1 to match x2's size\n",
        "            x1 = torch.nn.functional.interpolate(x1, size=x2.size()[2:], mode='bilinear', align_corners=False)# Your code here\n",
        "\n",
        "        # Your code here: Concatenate the skip connection\n",
        "        x = torch.cat([x2, x1], dim=1)# Your code here\n",
        "        # Your code here: Apply the convolutional block\n",
        "        return self.conv(x)# Your code here\n",
        "\n",
        "class UNetEfficient(torch.nn.Module):\n",
        "    def __init__(self, in_channels=3, out_channels=1):\n",
        "        # Your code here: Initialize parent class\n",
        "        super(UNetEfficient, self).__init__()\n",
        "\n",
        "        # Your code here: Load pretrained EfficientNet\n",
        "        efficient_net = tvm.efficientnet_b0(weights='DEFAULT')# Your code here: tvm.efficientnet_b0 with weights='DEFAULT'\n",
        "\n",
        "        # Your code here: Extract feature layers from EfficientNet - using UNet nomenclature\n",
        "        # Extract the first two layers as the initial block\n",
        "        self.inc = torch.nn.Sequential(*list(efficient_net.features)[:2])# Your code here\n",
        "        # Extract the MBConv blocks as the down stages\n",
        "        self.down1 = efficient_net.features[2]# Your code here: MBConv block 2\n",
        "        self.down2 = efficient_net.features[3]# Your code here: MBConv block 3\n",
        "        self.down3 = efficient_net.features[4] # Your code here: MBConv block 4\n",
        "        self.down4 = torch.nn.Sequential(                              # MBConv blocks 5,6,7\n",
        "            efficient_net.features[5],\n",
        "            efficient_net.features[6],\n",
        "            efficient_net.features[7]\n",
        "        )# Your code here: MBConv blocks 5,6,7\n",
        "\n",
        "        # Your code here: Freeze encoder layers to preserve pretrained weights\n",
        "        encoders = [self.inc, self.down1, self.down2, self.down3, self.down4]\n",
        "        for encoder in encoders:\n",
        "            for param in encoder.parameters():\n",
        "                param.requires_grad = False# Your code here: Loop through each parameter and set requires_grad to False\n",
        "            # Your code here\n",
        "\n",
        "        # Your code here: Get the output channels from each encoder stage\n",
        "        enc1_channels = 16     # Initial block outputs 16 channels\n",
        "        enc2_channels = 24     # MBConv block 2 outputs 24 channels\n",
        "        enc3_channels = 40     # MBConv block 3 outputs 40 channels\n",
        "        enc4_channels = 80     # MBConv block 4 outputs 80 channels\n",
        "        enc5_channels = 320    # Last MBConv block outputs 320 channels\n",
        "\n",
        "        # Your code here: Center bottleneck (using DoubleConv)\n",
        "        self.center = DoubleConv(enc5_channels, 512)# Your code here\n",
        "\n",
        "        # Your code here: Upsampling path with SmartUp blocks\n",
        "        self.up1 = SmartUp(512, enc4_channels, enc4_channels)# Your code here: SmartUp with 512, enc4_channels, enc4_channels\n",
        "        self.up2 = SmartUp(enc4_channels, enc3_channels, enc3_channels)# Your code here: SmartUp with enc4_channels, enc3_channels, enc3_channels\n",
        "        self.up3 = SmartUp(enc3_channels, enc2_channels, enc2_channels)# Your code here: SmartUp with enc3_channels, enc2_channels, enc2_channels\n",
        "        self.up4 = SmartUp(enc2_channels, enc1_channels, enc1_channels)# Your code here: SmartUp with enc2_channels, enc1_channels, enc1_channels\n",
        "\n",
        "        # Your code here: Final output layer\n",
        "        self.outc = torch.nn.Conv2d(enc1_channels, out_channels, kernel_size=1)# Your code here: Conv2d with enc1_channels, out_channels, kernel_size=1\n",
        "\n",
        "    def forward(self, x):\n",
        "        # Your code here: Save input size for later resizing if needed\n",
        "        input_size = x.size()[2:]\n",
        "\n",
        "        # Your code here: Encoder path with EfficientNet\n",
        "        x1 = self.inc(x)# Your code here: Apply inc to x\n",
        "        x2 = self.down1(x1)# Your code here: Apply down1 to x1\n",
        "        x3 = self.down2(x2)# Your code here: Apply down2 to x2\n",
        "        x4 = self.down3(x3)# Your code here: Apply down3 to x3\n",
        "        x5 = self.down4(x4)# Your code here: Apply down4 to x4\n",
        "\n",
        "        # Your code here: Center processing\n",
        "        x = self.center(x5) # Your code here: Apply center to x5\n",
        "\n",
        "        # Your code here: Decoder path with skip connections\n",
        "        x = self.up1(x, x4)# Your code here: Apply up1 to x and x4\n",
        "        x = self.up2(x, x3)# Your code here: Apply up2 to x and x3\n",
        "        x = self.up3(x, x2)# Your code here: Apply up3 to x and x2\n",
        "        x = self.up4(x, x1)# Your code here: Apply up4 to x and x1\n",
        "\n",
        "        # Your code here: Final output layer\n",
        "        output = self.outc(x)# Your code here: Apply outc to x\n",
        "\n",
        "        # Your code here: Resize to match original input dimensions if needed\n",
        "        if output.size()[2:] != input_size:\n",
        "            # Your code here: Use interpolate to resize output\n",
        "            output = torch.nn.functional.interpolate(output, size=input_size, mode='bilinear', align_corners=False)# Your code here\n",
        "\n",
        "        # Your code here: Apply sigmoid activation and return\n",
        "        return torch.nn.functional.sigmoid(output)# Your code here\n",
        "\n"
      ]
    },
    {
      "cell_type": "code",
      "execution_count": null,
      "metadata": {
        "id": "kQ6kCNZd8gLQ"
      },
      "outputs": [],
      "source": [
        "# Initialize the EfficientNet UNet model\n",
        "model_efficient = UNetEfficient(in_channels=3, out_channels=1).to(device)\n",
        "criterion_efficient = DiceLoss()\n",
        "optimizer_efficient = torch.optim.Adam(filter(lambda p: p.requires_grad, model_efficient.parameters()), lr=1e-3)\n",
        "\n",
        "num_epochs = 5\n",
        "\n",
        "model_efficient = utils.ml.train_model(\n",
        "    model=model_efficient,\n",
        "    criterion=criterion_efficient,\n",
        "    optimiser=optimizer_efficient,\n",
        "    train_loader=train_dl,\n",
        "    val_loader=valid_dl,\n",
        "    num_epochs=num_epochs,\n",
        "    early_stopping=True,\n",
        "    patience=3,\n",
        "    save_path= Path.cwd() / \"my_models\" / \"se05_model_v2.pt\",\n",
        "    plot_loss=True,\n",
        ")"
      ]
    },
    {
      "cell_type": "code",
      "execution_count": null,
      "metadata": {
        "id": "WwXjEJrZ8gLQ"
      },
      "outputs": [],
      "source": [
        "# Visualize predictions with EfficientNet UNet\n",
        "utils.plotting.compare_binary_segmentation_models(\n",
        "    model_v1, model_efficient, test_dl, n_images=10, mean=mean, std=std)"
      ]
    },
    {
      "cell_type": "markdown",
      "metadata": {
        "id": "GMbMFzGC8gLQ"
      },
      "source": [
        "## 5.5 Advantages of Transfer Learning\n",
        "***\n",
        "\n",
        "Transfer learning is particularly effective in computer vision and natural language processing (NLP) tasks, where large pre-trained models are available. The key advantages of transfer learning include:\n",
        "\n",
        "| Advantage | Description | Impact |\n",
        "|-----------|-------------|--------|\n",
        "| **Reduced Training Time** | Start with pre-learned features instead of random weights | Training can be 5-10x faster than from scratch |\n",
        "| **Less Training Data** | Leverage knowledge from the source domain | Can work with hundreds vs. thousands of examples |\n",
        "| **Better Performance** | Often achieves higher accuracy than training from scratch | Especially beneficial with limited target data |\n",
        "| **Faster Convergence** | Models typically reach optimal performance in fewer epochs | Reduces computational costs of model development |\n",
        "| **Lower Computational Cost** | Requires fewer resources for training | Makes deep learning accessible with limited hardware |\n",
        "| **Knowledge Retention** | Preserves useful features learned from large datasets | Captures generalizable representations across domains |\n"
      ]
    },
    {
      "cell_type": "code",
      "execution_count": null,
      "metadata": {
        "id": "AsbLH0f_8gLQ"
      },
      "outputs": [],
      "source": [
        "# Quiz on Transfer Learning Concepts\n",
        "print(\"\\n🧠 Quiz 2: Feature extraction vs. Fine Tuning\")\n",
        "quizzer.run_quiz(2)\n",
        "\n",
        "print(\"\\n🧠 Quiz 3: Selecting Pre-trained models\")\n",
        "quizzer.run_quiz(3)\n",
        "\n",
        "print(\"\\n🧠 Quiz 4: Transfer Learning Techniques\")\n",
        "quizzer.run_quiz(4)\n",
        "\n",
        "print(\"\\n🧠 Quiz 5: Transfer Learning Learning Rate Selection\")\n",
        "quizzer.run_quiz(5)"
      ]
    }
  ],
  "metadata": {
    "kernelspec": {
      "display_name": "Python 3",
      "name": "python3"
    },
    "language_info": {
      "codemirror_mode": {
        "name": "ipython",
        "version": 3
      },
      "file_extension": ".py",
      "mimetype": "text/x-python",
      "name": "python",
      "nbconvert_exporter": "python",
      "pygments_lexer": "ipython3",
      "version": "3.12.3"
    },
    "colab": {
      "provenance": [],
      "gpuType": "V28"
    },
    "accelerator": "TPU",
    "widgets": {
      "application/vnd.jupyter.widget-state+json": {
        "3f0fb3fb4bab40fca5aa075cfdffe253": {
          "model_module": "@jupyter-widgets/controls",
          "model_name": "HBoxModel",
          "model_module_version": "1.5.0",
          "state": {
            "_dom_classes": [],
            "_model_module": "@jupyter-widgets/controls",
            "_model_module_version": "1.5.0",
            "_model_name": "HBoxModel",
            "_view_count": null,
            "_view_module": "@jupyter-widgets/controls",
            "_view_module_version": "1.5.0",
            "_view_name": "HBoxView",
            "box_style": "",
            "children": [
              "IPY_MODEL_4d30fcc897e246b4ad3f12b00daba2fd",
              "IPY_MODEL_76f040c8fa834ae3a1e062eebd94b29d",
              "IPY_MODEL_9e2ea74879864a90b0138c9a90c30a78"
            ],
            "layout": "IPY_MODEL_1d8221e499fb49bfa3dd0e7c11bdf5f0"
          }
        },
        "4d30fcc897e246b4ad3f12b00daba2fd": {
          "model_module": "@jupyter-widgets/controls",
          "model_name": "HTMLModel",
          "model_module_version": "1.5.0",
          "state": {
            "_dom_classes": [],
            "_model_module": "@jupyter-widgets/controls",
            "_model_module_version": "1.5.0",
            "_model_name": "HTMLModel",
            "_view_count": null,
            "_view_module": "@jupyter-widgets/controls",
            "_view_module_version": "1.5.0",
            "_view_name": "HTMLView",
            "description": "",
            "description_tooltip": null,
            "layout": "IPY_MODEL_d73baee671a645d8ba9da6e3f5de255e",
            "placeholder": "​",
            "style": "IPY_MODEL_3d2ad19ff7fd49949e77b86811600ede",
            "value": "UNet Training:   0%"
          }
        },
        "76f040c8fa834ae3a1e062eebd94b29d": {
          "model_module": "@jupyter-widgets/controls",
          "model_name": "FloatProgressModel",
          "model_module_version": "1.5.0",
          "state": {
            "_dom_classes": [],
            "_model_module": "@jupyter-widgets/controls",
            "_model_module_version": "1.5.0",
            "_model_name": "FloatProgressModel",
            "_view_count": null,
            "_view_module": "@jupyter-widgets/controls",
            "_view_module_version": "1.5.0",
            "_view_name": "ProgressView",
            "bar_style": "danger",
            "description": "",
            "description_tooltip": null,
            "layout": "IPY_MODEL_38f327e518944200a386142c5c42f07a",
            "max": 2,
            "min": 0,
            "orientation": "horizontal",
            "style": "IPY_MODEL_93a8c751f69f4b858a41cb22f08b8c50",
            "value": 0
          }
        },
        "9e2ea74879864a90b0138c9a90c30a78": {
          "model_module": "@jupyter-widgets/controls",
          "model_name": "HTMLModel",
          "model_module_version": "1.5.0",
          "state": {
            "_dom_classes": [],
            "_model_module": "@jupyter-widgets/controls",
            "_model_module_version": "1.5.0",
            "_model_name": "HTMLModel",
            "_view_count": null,
            "_view_module": "@jupyter-widgets/controls",
            "_view_module_version": "1.5.0",
            "_view_name": "HTMLView",
            "description": "",
            "description_tooltip": null,
            "layout": "IPY_MODEL_e899b801c4c74f3684531dd47e69bacb",
            "placeholder": "​",
            "style": "IPY_MODEL_74139b6952dc4d0c9901cfe32d1b2452",
            "value": " 0/2 [01:22&lt;?, ?it/s]"
          }
        },
        "1d8221e499fb49bfa3dd0e7c11bdf5f0": {
          "model_module": "@jupyter-widgets/base",
          "model_name": "LayoutModel",
          "model_module_version": "1.2.0",
          "state": {
            "_model_module": "@jupyter-widgets/base",
            "_model_module_version": "1.2.0",
            "_model_name": "LayoutModel",
            "_view_count": null,
            "_view_module": "@jupyter-widgets/base",
            "_view_module_version": "1.2.0",
            "_view_name": "LayoutView",
            "align_content": null,
            "align_items": null,
            "align_self": null,
            "border": null,
            "bottom": null,
            "display": null,
            "flex": null,
            "flex_flow": null,
            "grid_area": null,
            "grid_auto_columns": null,
            "grid_auto_flow": null,
            "grid_auto_rows": null,
            "grid_column": null,
            "grid_gap": null,
            "grid_row": null,
            "grid_template_areas": null,
            "grid_template_columns": null,
            "grid_template_rows": null,
            "height": null,
            "justify_content": null,
            "justify_items": null,
            "left": null,
            "margin": null,
            "max_height": null,
            "max_width": null,
            "min_height": null,
            "min_width": null,
            "object_fit": null,
            "object_position": null,
            "order": null,
            "overflow": null,
            "overflow_x": null,
            "overflow_y": null,
            "padding": null,
            "right": null,
            "top": null,
            "visibility": null,
            "width": null
          }
        },
        "d73baee671a645d8ba9da6e3f5de255e": {
          "model_module": "@jupyter-widgets/base",
          "model_name": "LayoutModel",
          "model_module_version": "1.2.0",
          "state": {
            "_model_module": "@jupyter-widgets/base",
            "_model_module_version": "1.2.0",
            "_model_name": "LayoutModel",
            "_view_count": null,
            "_view_module": "@jupyter-widgets/base",
            "_view_module_version": "1.2.0",
            "_view_name": "LayoutView",
            "align_content": null,
            "align_items": null,
            "align_self": null,
            "border": null,
            "bottom": null,
            "display": null,
            "flex": null,
            "flex_flow": null,
            "grid_area": null,
            "grid_auto_columns": null,
            "grid_auto_flow": null,
            "grid_auto_rows": null,
            "grid_column": null,
            "grid_gap": null,
            "grid_row": null,
            "grid_template_areas": null,
            "grid_template_columns": null,
            "grid_template_rows": null,
            "height": null,
            "justify_content": null,
            "justify_items": null,
            "left": null,
            "margin": null,
            "max_height": null,
            "max_width": null,
            "min_height": null,
            "min_width": null,
            "object_fit": null,
            "object_position": null,
            "order": null,
            "overflow": null,
            "overflow_x": null,
            "overflow_y": null,
            "padding": null,
            "right": null,
            "top": null,
            "visibility": null,
            "width": null
          }
        },
        "3d2ad19ff7fd49949e77b86811600ede": {
          "model_module": "@jupyter-widgets/controls",
          "model_name": "DescriptionStyleModel",
          "model_module_version": "1.5.0",
          "state": {
            "_model_module": "@jupyter-widgets/controls",
            "_model_module_version": "1.5.0",
            "_model_name": "DescriptionStyleModel",
            "_view_count": null,
            "_view_module": "@jupyter-widgets/base",
            "_view_module_version": "1.2.0",
            "_view_name": "StyleView",
            "description_width": ""
          }
        },
        "38f327e518944200a386142c5c42f07a": {
          "model_module": "@jupyter-widgets/base",
          "model_name": "LayoutModel",
          "model_module_version": "1.2.0",
          "state": {
            "_model_module": "@jupyter-widgets/base",
            "_model_module_version": "1.2.0",
            "_model_name": "LayoutModel",
            "_view_count": null,
            "_view_module": "@jupyter-widgets/base",
            "_view_module_version": "1.2.0",
            "_view_name": "LayoutView",
            "align_content": null,
            "align_items": null,
            "align_self": null,
            "border": null,
            "bottom": null,
            "display": null,
            "flex": null,
            "flex_flow": null,
            "grid_area": null,
            "grid_auto_columns": null,
            "grid_auto_flow": null,
            "grid_auto_rows": null,
            "grid_column": null,
            "grid_gap": null,
            "grid_row": null,
            "grid_template_areas": null,
            "grid_template_columns": null,
            "grid_template_rows": null,
            "height": null,
            "justify_content": null,
            "justify_items": null,
            "left": null,
            "margin": null,
            "max_height": null,
            "max_width": null,
            "min_height": null,
            "min_width": null,
            "object_fit": null,
            "object_position": null,
            "order": null,
            "overflow": null,
            "overflow_x": null,
            "overflow_y": null,
            "padding": null,
            "right": null,
            "top": null,
            "visibility": null,
            "width": null
          }
        },
        "93a8c751f69f4b858a41cb22f08b8c50": {
          "model_module": "@jupyter-widgets/controls",
          "model_name": "ProgressStyleModel",
          "model_module_version": "1.5.0",
          "state": {
            "_model_module": "@jupyter-widgets/controls",
            "_model_module_version": "1.5.0",
            "_model_name": "ProgressStyleModel",
            "_view_count": null,
            "_view_module": "@jupyter-widgets/base",
            "_view_module_version": "1.2.0",
            "_view_name": "StyleView",
            "bar_color": null,
            "description_width": ""
          }
        },
        "e899b801c4c74f3684531dd47e69bacb": {
          "model_module": "@jupyter-widgets/base",
          "model_name": "LayoutModel",
          "model_module_version": "1.2.0",
          "state": {
            "_model_module": "@jupyter-widgets/base",
            "_model_module_version": "1.2.0",
            "_model_name": "LayoutModel",
            "_view_count": null,
            "_view_module": "@jupyter-widgets/base",
            "_view_module_version": "1.2.0",
            "_view_name": "LayoutView",
            "align_content": null,
            "align_items": null,
            "align_self": null,
            "border": null,
            "bottom": null,
            "display": null,
            "flex": null,
            "flex_flow": null,
            "grid_area": null,
            "grid_auto_columns": null,
            "grid_auto_flow": null,
            "grid_auto_rows": null,
            "grid_column": null,
            "grid_gap": null,
            "grid_row": null,
            "grid_template_areas": null,
            "grid_template_columns": null,
            "grid_template_rows": null,
            "height": null,
            "justify_content": null,
            "justify_items": null,
            "left": null,
            "margin": null,
            "max_height": null,
            "max_width": null,
            "min_height": null,
            "min_width": null,
            "object_fit": null,
            "object_position": null,
            "order": null,
            "overflow": null,
            "overflow_x": null,
            "overflow_y": null,
            "padding": null,
            "right": null,
            "top": null,
            "visibility": null,
            "width": null
          }
        },
        "74139b6952dc4d0c9901cfe32d1b2452": {
          "model_module": "@jupyter-widgets/controls",
          "model_name": "DescriptionStyleModel",
          "model_module_version": "1.5.0",
          "state": {
            "_model_module": "@jupyter-widgets/controls",
            "_model_module_version": "1.5.0",
            "_model_name": "DescriptionStyleModel",
            "_view_count": null,
            "_view_module": "@jupyter-widgets/base",
            "_view_module_version": "1.2.0",
            "_view_name": "StyleView",
            "description_width": ""
          }
        },
        "728b829f42c0470eb8a6be67be7c3f7c": {
          "model_module": "@jupyter-widgets/controls",
          "model_name": "HBoxModel",
          "model_module_version": "1.5.0",
          "state": {
            "_dom_classes": [],
            "_model_module": "@jupyter-widgets/controls",
            "_model_module_version": "1.5.0",
            "_model_name": "HBoxModel",
            "_view_count": null,
            "_view_module": "@jupyter-widgets/controls",
            "_view_module_version": "1.5.0",
            "_view_name": "HBoxView",
            "box_style": "",
            "children": [
              "IPY_MODEL_e06f9f9d7be9416d838e1a3ee93f0333",
              "IPY_MODEL_b535bfd5c5d345a58b37a5ff0c0f6492",
              "IPY_MODEL_a09b96d32c2e4f2aaa9978219485574b"
            ],
            "layout": "IPY_MODEL_b7730b2d4411452d9706bfc2238209ad"
          }
        },
        "e06f9f9d7be9416d838e1a3ee93f0333": {
          "model_module": "@jupyter-widgets/controls",
          "model_name": "HTMLModel",
          "model_module_version": "1.5.0",
          "state": {
            "_dom_classes": [],
            "_model_module": "@jupyter-widgets/controls",
            "_model_module_version": "1.5.0",
            "_model_name": "HTMLModel",
            "_view_count": null,
            "_view_module": "@jupyter-widgets/controls",
            "_view_module_version": "1.5.0",
            "_view_name": "HTMLView",
            "description": "",
            "description_tooltip": null,
            "layout": "IPY_MODEL_0b5ffd5ec41b4949863ef65c2f36b7ca",
            "placeholder": "​",
            "style": "IPY_MODEL_4835f72b8e8240758991748c9ad66a11",
            "value": "Training Batch 13/45:  31%"
          }
        },
        "b535bfd5c5d345a58b37a5ff0c0f6492": {
          "model_module": "@jupyter-widgets/controls",
          "model_name": "FloatProgressModel",
          "model_module_version": "1.5.0",
          "state": {
            "_dom_classes": [],
            "_model_module": "@jupyter-widgets/controls",
            "_model_module_version": "1.5.0",
            "_model_name": "FloatProgressModel",
            "_view_count": null,
            "_view_module": "@jupyter-widgets/controls",
            "_view_module_version": "1.5.0",
            "_view_name": "ProgressView",
            "bar_style": "danger",
            "description": "",
            "description_tooltip": null,
            "layout": "IPY_MODEL_4a7845e062be4124a2565697f6433e6c",
            "max": 45,
            "min": 0,
            "orientation": "horizontal",
            "style": "IPY_MODEL_a896e8121d3c44c0a745d988d7901845",
            "value": 14
          }
        },
        "a09b96d32c2e4f2aaa9978219485574b": {
          "model_module": "@jupyter-widgets/controls",
          "model_name": "HTMLModel",
          "model_module_version": "1.5.0",
          "state": {
            "_dom_classes": [],
            "_model_module": "@jupyter-widgets/controls",
            "_model_module_version": "1.5.0",
            "_model_name": "HTMLModel",
            "_view_count": null,
            "_view_module": "@jupyter-widgets/controls",
            "_view_module_version": "1.5.0",
            "_view_name": "HTMLView",
            "description": "",
            "description_tooltip": null,
            "layout": "IPY_MODEL_87f5d8c60be248aa8fe95133e7644ef9",
            "placeholder": "​",
            "style": "IPY_MODEL_b0380a1c40da4edb8795ff63f17674ba",
            "value": " 14/45 [01:22&lt;02:50,  5.50s/it, batch_loss [Training]=0.5599]"
          }
        },
        "b7730b2d4411452d9706bfc2238209ad": {
          "model_module": "@jupyter-widgets/base",
          "model_name": "LayoutModel",
          "model_module_version": "1.2.0",
          "state": {
            "_model_module": "@jupyter-widgets/base",
            "_model_module_version": "1.2.0",
            "_model_name": "LayoutModel",
            "_view_count": null,
            "_view_module": "@jupyter-widgets/base",
            "_view_module_version": "1.2.0",
            "_view_name": "LayoutView",
            "align_content": null,
            "align_items": null,
            "align_self": null,
            "border": null,
            "bottom": null,
            "display": null,
            "flex": null,
            "flex_flow": null,
            "grid_area": null,
            "grid_auto_columns": null,
            "grid_auto_flow": null,
            "grid_auto_rows": null,
            "grid_column": null,
            "grid_gap": null,
            "grid_row": null,
            "grid_template_areas": null,
            "grid_template_columns": null,
            "grid_template_rows": null,
            "height": null,
            "justify_content": null,
            "justify_items": null,
            "left": null,
            "margin": null,
            "max_height": null,
            "max_width": null,
            "min_height": null,
            "min_width": null,
            "object_fit": null,
            "object_position": null,
            "order": null,
            "overflow": null,
            "overflow_x": null,
            "overflow_y": null,
            "padding": null,
            "right": null,
            "top": null,
            "visibility": null,
            "width": null
          }
        },
        "0b5ffd5ec41b4949863ef65c2f36b7ca": {
          "model_module": "@jupyter-widgets/base",
          "model_name": "LayoutModel",
          "model_module_version": "1.2.0",
          "state": {
            "_model_module": "@jupyter-widgets/base",
            "_model_module_version": "1.2.0",
            "_model_name": "LayoutModel",
            "_view_count": null,
            "_view_module": "@jupyter-widgets/base",
            "_view_module_version": "1.2.0",
            "_view_name": "LayoutView",
            "align_content": null,
            "align_items": null,
            "align_self": null,
            "border": null,
            "bottom": null,
            "display": null,
            "flex": null,
            "flex_flow": null,
            "grid_area": null,
            "grid_auto_columns": null,
            "grid_auto_flow": null,
            "grid_auto_rows": null,
            "grid_column": null,
            "grid_gap": null,
            "grid_row": null,
            "grid_template_areas": null,
            "grid_template_columns": null,
            "grid_template_rows": null,
            "height": null,
            "justify_content": null,
            "justify_items": null,
            "left": null,
            "margin": null,
            "max_height": null,
            "max_width": null,
            "min_height": null,
            "min_width": null,
            "object_fit": null,
            "object_position": null,
            "order": null,
            "overflow": null,
            "overflow_x": null,
            "overflow_y": null,
            "padding": null,
            "right": null,
            "top": null,
            "visibility": null,
            "width": null
          }
        },
        "4835f72b8e8240758991748c9ad66a11": {
          "model_module": "@jupyter-widgets/controls",
          "model_name": "DescriptionStyleModel",
          "model_module_version": "1.5.0",
          "state": {
            "_model_module": "@jupyter-widgets/controls",
            "_model_module_version": "1.5.0",
            "_model_name": "DescriptionStyleModel",
            "_view_count": null,
            "_view_module": "@jupyter-widgets/base",
            "_view_module_version": "1.2.0",
            "_view_name": "StyleView",
            "description_width": ""
          }
        },
        "4a7845e062be4124a2565697f6433e6c": {
          "model_module": "@jupyter-widgets/base",
          "model_name": "LayoutModel",
          "model_module_version": "1.2.0",
          "state": {
            "_model_module": "@jupyter-widgets/base",
            "_model_module_version": "1.2.0",
            "_model_name": "LayoutModel",
            "_view_count": null,
            "_view_module": "@jupyter-widgets/base",
            "_view_module_version": "1.2.0",
            "_view_name": "LayoutView",
            "align_content": null,
            "align_items": null,
            "align_self": null,
            "border": null,
            "bottom": null,
            "display": null,
            "flex": null,
            "flex_flow": null,
            "grid_area": null,
            "grid_auto_columns": null,
            "grid_auto_flow": null,
            "grid_auto_rows": null,
            "grid_column": null,
            "grid_gap": null,
            "grid_row": null,
            "grid_template_areas": null,
            "grid_template_columns": null,
            "grid_template_rows": null,
            "height": null,
            "justify_content": null,
            "justify_items": null,
            "left": null,
            "margin": null,
            "max_height": null,
            "max_width": null,
            "min_height": null,
            "min_width": null,
            "object_fit": null,
            "object_position": null,
            "order": null,
            "overflow": null,
            "overflow_x": null,
            "overflow_y": null,
            "padding": null,
            "right": null,
            "top": null,
            "visibility": null,
            "width": null
          }
        },
        "a896e8121d3c44c0a745d988d7901845": {
          "model_module": "@jupyter-widgets/controls",
          "model_name": "ProgressStyleModel",
          "model_module_version": "1.5.0",
          "state": {
            "_model_module": "@jupyter-widgets/controls",
            "_model_module_version": "1.5.0",
            "_model_name": "ProgressStyleModel",
            "_view_count": null,
            "_view_module": "@jupyter-widgets/base",
            "_view_module_version": "1.2.0",
            "_view_name": "StyleView",
            "bar_color": null,
            "description_width": ""
          }
        },
        "87f5d8c60be248aa8fe95133e7644ef9": {
          "model_module": "@jupyter-widgets/base",
          "model_name": "LayoutModel",
          "model_module_version": "1.2.0",
          "state": {
            "_model_module": "@jupyter-widgets/base",
            "_model_module_version": "1.2.0",
            "_model_name": "LayoutModel",
            "_view_count": null,
            "_view_module": "@jupyter-widgets/base",
            "_view_module_version": "1.2.0",
            "_view_name": "LayoutView",
            "align_content": null,
            "align_items": null,
            "align_self": null,
            "border": null,
            "bottom": null,
            "display": null,
            "flex": null,
            "flex_flow": null,
            "grid_area": null,
            "grid_auto_columns": null,
            "grid_auto_flow": null,
            "grid_auto_rows": null,
            "grid_column": null,
            "grid_gap": null,
            "grid_row": null,
            "grid_template_areas": null,
            "grid_template_columns": null,
            "grid_template_rows": null,
            "height": null,
            "justify_content": null,
            "justify_items": null,
            "left": null,
            "margin": null,
            "max_height": null,
            "max_width": null,
            "min_height": null,
            "min_width": null,
            "object_fit": null,
            "object_position": null,
            "order": null,
            "overflow": null,
            "overflow_x": null,
            "overflow_y": null,
            "padding": null,
            "right": null,
            "top": null,
            "visibility": null,
            "width": null
          }
        },
        "b0380a1c40da4edb8795ff63f17674ba": {
          "model_module": "@jupyter-widgets/controls",
          "model_name": "DescriptionStyleModel",
          "model_module_version": "1.5.0",
          "state": {
            "_model_module": "@jupyter-widgets/controls",
            "_model_module_version": "1.5.0",
            "_model_name": "DescriptionStyleModel",
            "_view_count": null,
            "_view_module": "@jupyter-widgets/base",
            "_view_module_version": "1.2.0",
            "_view_name": "StyleView",
            "description_width": ""
          }
        }
      }
    }
  },
  "nbformat": 4,
  "nbformat_minor": 0
}