{
  "cells": [
    {
      "cell_type": "markdown",
      "metadata": {
        "id": "view-in-github",
        "colab_type": "text"
      },
      "source": [
        "<a href=\"https://colab.research.google.com/github/conkats/uom_fse_deeplearning/blob/main/SE01_CA_Intro_to_pytorch.ipynb\" target=\"_parent\"><img src=\"https://colab.research.google.com/assets/colab-badge.svg\" alt=\"Open In Colab\"/></a>"
      ]
    },
    {
      "cell_type": "markdown",
      "metadata": {
        "id": "ZsJwzc32A1FZ"
      },
      "source": [
        "![Workshop Banner](https://raw.githubusercontent.com/CLDiego/uom_fse_dl_workshop/main/figs/se_01.png)\n",
        "[![Open In Colab](https://colab.research.google.com/assets/colab-badge.svg)](https://colab.research.google.com/github/CLDiego/uom_fse_dl_workshop/blob/main/SE01_CA_Intro_to_pytorch.ipynb)\n",
        "# Workshop Instructions\n",
        "***\n",
        "- <img src=\"https://raw.githubusercontent.com/CLDiego/uom_fse_dl_workshop/main/figs/icons/write.svg\" width=\"20\"/> Follow along by typing the code yourself - this helps with learning!\n",
        "- <img src=\"https://raw.githubusercontent.com/CLDiego/uom_fse_dl_workshop/main/figs/icons/code.svg\" width=\"20\"/> Code cells marked as \"Exercise\" are for you to complete\n",
        "- <img src=\"https://raw.githubusercontent.com/CLDiego/uom_fse_dl_workshop/main/figs/icons/reminder.svg\" width=\"20\"/> Look for hints if you get stuck\n",
        "- <img src=\"https://raw.githubusercontent.com/CLDiego/uom_fse_dl_workshop/main/figs/icons/success.svg\" width=\"20\" /> Compare your solution with the provided answers\n",
        "- <img src=\"https://raw.githubusercontent.com/CLDiego/uom_fse_dl_workshop/main/figs/icons/list.svg\" width=\"20\" /> Don't worry if you make mistakes - debugging is part of learning!"
      ]
    },
    {
      "cell_type": "code",
      "execution_count": 1,
      "metadata": {
        "id": "lnJ9F_3lA1Fb",
        "outputId": "7fd6bf2a-1e38-45bb-d41b-798e61c8e261",
        "colab": {
          "base_uri": "https://localhost:8080/"
        }
      },
      "outputs": [
        {
          "output_type": "stream",
          "name": "stdout",
          "text": [
            "colab_utils.txt     100%[===================>]   1.57K  --.-KB/s    in 0s      \n",
            "utils/__init__.py   100%[===================>]   1.75K  --.-KB/s    in 0s      \n",
            "utils/__version__.p 100%[===================>]     234  --.-KB/s    in 0s      \n",
            "utils/core.py       100%[===================>]  55.36K  --.-KB/s    in 0.01s   \n",
            "utils/quizzes.json  100%[===================>]  18.63K  --.-KB/s    in 0.001s  \n",
            "utils/solutions.jso 100%[===================>]  45.93K  --.-KB/s    in 0.002s  \n",
            "utils/data/__init__ 100%[===================>]     766  --.-KB/s    in 0s      \n",
            "utils/data/datasets 100%[===================>]   8.36K  --.-KB/s    in 0s      \n",
            "utils/data/download 100%[===================>]  11.24K  --.-KB/s    in 0s      \n",
            "utils/data/uwmgi.py 100%[===================>]  11.78K  --.-KB/s    in 0s      \n",
            "utils/ml/__init__.p 100%[===================>]     526  --.-KB/s    in 0s      \n",
            "utils/ml/metrics.py 100%[===================>]   3.60K  --.-KB/s    in 0s      \n",
            "utils/ml/scaling.py 100%[===================>]   4.77K  --.-KB/s    in 0s      \n",
            "utils/ml/training.p 100%[===================>]   8.25K  --.-KB/s    in 0s      \n",
            "utils/plotting/__in 100%[===================>]   1.59K  --.-KB/s    in 0s      \n",
            "utils/plotting/font 100%[===================>]   2.53K  --.-KB/s    in 0s      \n",
            "utils/plotting/form 100%[===================>]  12.42K  --.-KB/s    in 0s      \n",
            "utils/plotting/inte 100%[===================>]  16.23K  --.-KB/s    in 0s      \n",
            "utils/plotting/plot 100%[===================>]  22.75K  --.-KB/s    in 0s      \n"
          ]
        }
      ],
      "source": [
        "# Download utils from GitHub\n",
        "!wget -q --show-progress https://raw.githubusercontent.com/CLDiego/uom_fse_dl_workshop/main/colab_utils.txt -O colab_utils.txt\n",
        "!wget -q --show-progress -x -nH --cut-dirs=3 -i colab_utils.txt"
      ]
    },
    {
      "cell_type": "markdown",
      "metadata": {
        "id": "bR4-0XDVA1Fd"
      },
      "source": [
        "# 1. PyTorch\n",
        "***\n",
        "[PyTorch](https://pytorch.org/) is an open source machine learning and deep learning framework based on the Torch library.\n",
        "\n",
        "## Why PyTorch?\n",
        "\n",
        "PyTorch is a popular starting point for deep learning research due to its flexibility and ease of use, compared to other frameworks like TensorFlow. It is often recommended to use TensorFlow for **production-level projects**, but PyTorch is a great choice for **research and experimentation**. More explicitly, PyTorch has the following advantages:\n",
        "\n",
        "- **Dynamic computation graph**: PyTorch uses a dynamic computation graph, which means that the graph is generated on-the-fly as operations are created. This is in contrast to TensorFlow, which uses a static computation graph. The dynamic computation graph in PyTorch makes it easier to debug and understand the code.\n",
        "\n",
        "- **Pythonic**: PyTorch is designed to be Pythonic, which means that it is easy to read and write. This is in contrast to TensorFlow, which uses a more verbose syntax.\n",
        "\n",
        "- **Imperative programming**: PyTorch uses imperative programming, which means that you can write code that looks like regular Python code. This is in contrast to TensorFlow, which uses declarative programming.\n",
        "\n",
        "## Setting up the working environment\n",
        "\n",
        "We are going to use different python modules throughout this course. It is not necessary to be familiar with all of them at the moment. Some of these libraries enable us to work with data and perform numerical operations, while others are used for visualization purposes."
      ]
    },
    {
      "cell_type": "code",
      "execution_count": 2,
      "metadata": {
        "id": "wkXpOo0yA1Fd",
        "outputId": "ee6e2b12-aee2-4055-8116-2e4342d35ba7",
        "colab": {
          "base_uri": "https://localhost:8080/"
        }
      },
      "outputs": [
        {
          "output_type": "stream",
          "name": "stdout",
          "text": [
            "Faculty of Science and Engineering 🔬\n",
            "\u001b[95mThe University of Manchester \u001b[0m\n",
            "Invoking utils version: \u001b[92m1.1.0+4edc6ee\u001b[0m\n",
            "GPU available: False\n",
            "No GPU available. Please ensure you've enabled GPU in Runtime > Change runtime type\n"
          ]
        }
      ],
      "source": [
        "import sys\n",
        "from pathlib import Path\n",
        "\n",
        "repo_path = Path.cwd()\n",
        "if str(repo_path) not in sys.path:\n",
        "    sys.path.append(str(repo_path))\n",
        "\n",
        "import utils\n",
        "import pandas as pd\n",
        "import torch\n",
        "\n",
        "print(\"GPU available:\", torch.cuda.is_available())\n",
        "if torch.cuda.is_available():\n",
        "    print(\"GPU device:\", torch.cuda.get_device_name(0))\n",
        "else:\n",
        "    print(\"No GPU available. Please ensure you've enabled GPU in Runtime > Change runtime type\")\n",
        "\n",
        "checker = utils.core.ExerciseChecker(\"SE01\")"
      ]
    },
    {
      "cell_type": "markdown",
      "metadata": {
        "id": "imibn9DqA1Fe"
      },
      "source": [
        "# 2. Introduction to tensors\n",
        "***\n",
        "> <img src=\"https://raw.githubusercontent.com/CLDiego/uom_fse_dl_workshop/main/figs/icons/write.svg\" width=\"20\"/> **Definition**: A tensor is a generalisation of vectors and matrices that can have an arbitrary number of dimensions. In simple terms, a tensor is a multidimensional array.\n",
        "\n",
        "Similar to arrays, tensors can have different shapes and sizes. The number of dimensions of a tensor is called its **rank**. Here are some examples of tensors:\n",
        "\n",
        "- **Scalar**: A scalar is a single number, denoted as a tensor of rank 0.\n",
        "- **Vector**: A vector is an array of numbers, denoted as a tensor of rank 1.\n",
        "- **Matrix**: A matrix is a 2D array of numbers, denoted as a tensor of rank 2.\n",
        "- **3D tensor**: A 3D tensor is a cube of numbers, denoted as a tensor of rank 3.\n",
        "- **nD tensor**: An nD tensor is a generalisation of the above examples, denoted as a tensor of rank n.\n",
        "\n",
        "<div align=\"center\">\n",
        "  <img src=\"https://raw.githubusercontent.com/CLDiego/uom_fse_dl_workshop/main/figs/tensors.png\" width=\"70%\">\n",
        "</div>\n",
        "\n",
        "The power of tensors comes in the form of their operations. Tensors can be added, multiplied, and manipulated in various ways.\n",
        "\n",
        "## 2.1 Creating tensors\n",
        "***\n",
        "To create a tensor in PyTorch, we can use the class `torch.Tensor`.\n",
        "\n",
        "> <img src=\"https://raw.githubusercontent.com/CLDiego/uom_fse_dl_workshop/main/figs/icons/docs.svg\" width=\"20\"/> **Documentation**: PyTorch is a well documented library, if you struggle with a function, you can always check the [documentation](https://pytorch.org/docs/stable/index.html) for help. You can also use the `help()` function in Python to get more information about a function or class. For example, `help(torch.Tensor)` will give you information about the `Tensor` class.\n",
        "\n",
        "***\n",
        "> <img src=\"https://raw.githubusercontent.com/CLDiego/uom_fse_dl_workshop/main/figs/icons/code.svg\" width=\"20\"/> **Snippet 1**: Creating a scalar tensor\n",
        "\n",
        "```python\n",
        "x = torch.tensor(101)\n",
        "\n",
        "# Get the type and shape of the tensor\n",
        "print(f'x: {x}, type: {type(x)}, shape: {x.shape}')\n",
        "```"
      ]
    },
    {
      "cell_type": "code",
      "execution_count": 4,
      "metadata": {
        "id": "7YbU39YEA1Ff",
        "outputId": "1536dcf3-4b75-47c5-dfb5-92b53bfb3ef8",
        "colab": {
          "base_uri": "https://localhost:8080/"
        }
      },
      "outputs": [
        {
          "output_type": "stream",
          "name": "stdout",
          "text": [
            "--------------------------------------------------------------------------------\n",
            "✅ scalar_tensor is correct!\n",
            "✅ float_tensor is correct!\n",
            "\n",
            "🎉 Excellent! All parts are correct!\n"
          ]
        }
      ],
      "source": [
        "# Exercise 1: Creating Your First Tensor 🎯\n",
        "# Try to create:\n",
        "# 1. A scalar tensor with value 42\n",
        "# 2. A float tensor with value 3.14\n",
        "\n",
        "# Your code here:\n",
        "scalar_tensor = torch.tensor(42) # Add your code\n",
        "float_tensor = torch.tensor(3.14)# Add your code\n",
        "\n",
        "\n",
        "# ✅ Check your answer\n",
        "answer = {\n",
        "    'scalar_tensor': scalar_tensor,\n",
        "    'float_tensor': float_tensor\n",
        "}\n",
        "checker.check_exercise(1, answer)"
      ]
    },
    {
      "cell_type": "code",
      "execution_count": null,
      "metadata": {
        "id": "QNBllCQDA1Fg"
      },
      "outputs": [],
      "source": [
        "# Check the characteristics of the tensors you created\n",
        "print(f\"Scalar tensor: {scalar_tensor}, type: {type(scalar_tensor)}, shape: {scalar_tensor.shape}, dtype: {scalar_tensor.dtype}\")\n",
        "print(f\"Float tensor: {float_tensor}, type: {type(float_tensor)}, shape: {float_tensor.shape}, dtype: {float_tensor.dtype}\")"
      ]
    },
    {
      "cell_type": "markdown",
      "metadata": {
        "id": "GR2ZYMJ1A1Fi"
      },
      "source": [
        "In the above example, we created a scalar tensor with a single element. Looking at its attributes, we can see that the tensor has a shape of `torch.Size([])`, which means that it has no dimensions. We can also see that the tensor has a data type of `torch.int64`, which means that it is an integer tensor.\n",
        "\n",
        "\n",
        "> <img src=\"https://raw.githubusercontent.com/CLDiego/uom_fse_dl_workshop/main/figs/icons/reminder.svg\" width=\"20\"/> **Note**: The data type of a tensor is determined by the data type of the elements that it contains. It is important to be aware of the data type of a tensor, as it can affect the results of operations that are performed on it. Good practice is to always specify the data type of a tensor when creating it.\n",
        "\n",
        "\n",
        "As we can see our single element is now stored in a type of container, which means that we can perform operations on it but not directly on the element itself. To access the element, we can use the method `item()`."
      ]
    },
    {
      "cell_type": "code",
      "execution_count": null,
      "metadata": {
        "id": "QPlYYvyFA1Fi"
      },
      "outputs": [],
      "source": [
        "scalar_tensor, scalar_tensor.item()"
      ]
    },
    {
      "cell_type": "markdown",
      "metadata": {
        "id": "9Yr0gm7xA1Fj"
      },
      "source": [
        "We can specify the data type of a tensor by passing the `dtype` argument to the `torch.Tensor` constructor. Alternatively, we can use the 'torch.tensor.type` method to change the data type of a tensor."
      ]
    },
    {
      "cell_type": "code",
      "execution_count": null,
      "metadata": {
        "id": "ZFZmEcPCA1Fj"
      },
      "outputs": [],
      "source": [
        "# Create a scalar tensor with a specific data type\n",
        "scalar_tensor = torch.tensor(42, dtype=torch.float32)\n",
        "print(scalar_tensor)\n",
        "\n",
        "# Change the data type of a tensor\n",
        "scalar_tensor = scalar_tensor.type(torch.int64)\n",
        "print(scalar_tensor)\n",
        "\n",
        "# Another way to change the data type of a tensor\n",
        "scalar_tensor = scalar_tensor.int()\n",
        "print(scalar_tensor)\n",
        "\n",
        "# # Not recommended as it can be confusing\n",
        "# with the .to() method that is used to move tensors\n",
        "# to different devices\n",
        "scalar_tensor = scalar_tensor.to(torch.float64)\n",
        "print(scalar_tensor)\n"
      ]
    },
    {
      "cell_type": "markdown",
      "metadata": {
        "id": "ajL4DTtRA1Fk"
      },
      "source": [
        "## 2.2 Initializing tensors\n",
        "***\n",
        "\n",
        "PyTorch provides multiple ways to initialize tensors. Sometimes, we want to create a tensor with specific values, while other times we want to create a tensor with random values. PyTorch provides several functions for creating tensors with different initializations. Below is a table summarizing some of the most commonly used tensor creation functions in PyTorch.\n",
        "\n",
        "| Function | Description | Example | Output Shape |\n",
        "|----------|-------------|---------|--------------|\n",
        "| `torch.tensor()` | Creates tensor from data | `torch.tensor([1, 2, 3])` | `(3,)` |\n",
        "| `torch.zeros()` | Creates tensor of zeros | `torch.zeros(2, 3)` | `(2, 3)` |\n",
        "| `torch.ones()` | Creates tensor of ones | `torch.ones(2, 3)` | `(2, 3)` |\n",
        "| `torch.rand()` | Uniform random [0, 1] | `torch.rand(2, 3)` | `(2, 3)` |\n",
        "| `torch.randn()` | Normal distribution μ=0, σ=1 | `torch.randn(2, 3)` | `(2, 3)` |\n",
        "| `torch.arange()` | Integer sequence | `torch.arange(5)` | `(5,)` |\n",
        "| `torch.linspace()` | Evenly spaced sequence | `torch.linspace(0, 1, 5)` | `(5,)` |\n",
        "| `torch.eye()` | Identity matrix | `torch.eye(3)` | `(3, 3)` |\n",
        "| `torch.randint()` | Random integers | `torch.randint(0, 10, (2, 3))` | `(2, 3)` |"
      ]
    },
    {
      "cell_type": "code",
      "execution_count": null,
      "metadata": {
        "id": "_LQsWvzKA1Fk"
      },
      "outputs": [],
      "source": [
        "# Exercise 2: Tensor Initialization 🎯\n",
        "# Create the following tensors:\n",
        "# 1. A 3x3 tensor of random integers between 1-10\n",
        "# 2. A 3x3 identity matrix\n",
        "# 3. A tensor containing evenly spaced numbers from 0 to 1 (5 numbers)\n",
        "# 4. A 2x3 tensor of zeros\n",
        "\n",
        "# Your code here:\n",
        "random_tensor =  # Add your code\n",
        "identity_matrix =  # Add your code\n",
        "spaced_tensor =  # Add your code\n",
        "zero_tensor =  # Add your code\n",
        "\n",
        "# ✅ Check your answer\n",
        "answer = {\n",
        "    'random_tensor': random_tensor,\n",
        "    'identity_matrix': identity_matrix,\n",
        "    'spaced_tensor': spaced_tensor,\n",
        "    'zero_tensor': zero_tensor\n",
        "}\n",
        "checker.check_exercise('2', answer)"
      ]
    },
    {
      "cell_type": "markdown",
      "metadata": {
        "id": "BFfqDkoQA1Fl"
      },
      "source": [
        "# 3. Indexing tensors\n",
        "***\n",
        "Indexing tensors is similar to indexing arrays in Python. We can use square brackets `[]` to access elements in a tensor. This is useful for extracting specific elements or slices of a tensor. Below is a table summarizing the different ways to index tensors in PyTorch.\n",
        "\n",
        "> <img src=\"https://raw.githubusercontent.com/CLDiego/uom_fse_dl_workshop/main/figs/icons/reminder.svg\" width=\"20\"/>  **Tips**:\n",
        "> - Use `:` to select all elements in a dimension\n",
        "> - Use negative indices to count from the end: -1 is last element\n",
        "> - Ellipsis (`...`) represents multiple full slices\n",
        "> - Step values can be negative for reverse order\n",
        "> - Boolean masks must match tensor dimensions\n",
        "\n",
        "| Method | Syntax | Description | Example | Result |\n",
        "|--------|--------|-------------|---------|---------|\n",
        "| Basic Indexing | `tensor[ix,jx]` | Access single element | `t[0,1]` | Element at row 0, col 1 |\n",
        "| Slicing | `tensor[start:end]` | Extract subset | `t[1:3]` | Elements from index 1 to 2 |\n",
        "| Striding | `tensor[::step]` | Extract with step | `t[::2]` | Every second element |\n",
        "| Negative Indexing | `tensor[-1]` | Count from end | `t[-1]` | Last element |\n",
        "| Boolean Indexing | `tensor[mask]` | Filter with condition | `t[t > 0]` | Elements > 0 |\n",
        "| Ellipsis | `tensor[...]` | All dimensions | `t[...,0]` | All dims except last |\n",
        "| Combined | `tensor[1:3,...,::2]` | Mix methods | `t[1:3,...,0]` | Complex selection |\n",
        "\n",
        "***\n",
        "> <img src=\"https://raw.githubusercontent.com/CLDiego/uom_fse_dl_workshop/main/figs/icons/code.svg\" width=\"20\" /> **Snippet 2**: Indexing a tensor\n",
        "\n",
        "```python\n",
        "# Get corners of a matrix\n",
        "corners = tensor[...,[0,-1]]  # First and last elements of last dimension\n",
        "\n",
        "# Get last row of a matrix\n",
        "last_row = tensor[-1,...]  # Last row of all columns\n",
        "\n",
        "# Extract diagonal\n",
        "diagonal = tensor.diagonal()  # More efficient than indexing\n",
        "```"
      ]
    },
    {
      "cell_type": "code",
      "execution_count": null,
      "metadata": {
        "id": "N0Gw_6VFA1Fl"
      },
      "outputs": [],
      "source": [
        "# Create a 4x4 tensor for practice\n",
        "practice_tensor = torch.tensor([\n",
        "    [1, 2, 3, 4],\n",
        "    [5, 6, 7, 8],\n",
        "    [9, 10, 11, 12],\n",
        "    [13, 14, 15, 16]\n",
        "])\n",
        "\n",
        "# Exercise 3: Advanced Tensor Indexing 🎯\n",
        "# Extract the following from practice_tensor:\n",
        "# 1. The element at position (2,3)\n",
        "# 2. The second row\n",
        "# 3. The last column\n",
        "# 4. The 2x2 submatrix in the bottom right corner\n",
        "# 5. Every even-numbered element in the first row\n",
        "# 6. All corner elements as 2x2 matrix\n",
        "# 7. The middle 2x2 block\n",
        "# 8. The last row in reverse order\n",
        "\n",
        "# Your code here:\n",
        "position_2_3 =  # Element at (2,3)\n",
        "second_row =     # Second row\n",
        "last_column =   # Last column\n",
        "bottom_right =  # Bottom right 2x2\n",
        "even_elements =   # Even elements in first row\n",
        "all_corners =   # Corner elements\n",
        "middle_block =   # Middle 2x2 block\n",
        "\n",
        "# Print results\n",
        "print(f\"Element at (2,3): {position_2_3}\")\n",
        "print(f\"Second row: {second_row}\")\n",
        "print(f\"Last column: {last_column}\")\n",
        "print(f\"Bottom right 2x2:\\n{bottom_right}\")\n",
        "print(f\"Even elements in first row: {even_elements}\")\n",
        "print(f\"Corner elements:\\n{all_corners}\")\n",
        "print(f\"Middle block:\\n{middle_block}\")\n",
        "\n",
        "\n",
        "# ✅ Check your answer\n",
        "answer = {\n",
        "    'position_2_3': position_2_3,\n",
        "    'second_row': second_row,\n",
        "    'last_column': last_column,\n",
        "    'bottom_right': bottom_right,\n",
        "    'even_elements': even_elements,\n",
        "    'all_corners': all_corners,\n",
        "    'middle_block': middle_block,\n",
        "}\n",
        "checker.check_exercise(3, answer)"
      ]
    },
    {
      "cell_type": "markdown",
      "metadata": {
        "id": "tH92inOLA1Fm"
      },
      "source": [
        "# 4. Tensor operations\n",
        "***\n",
        "\n",
        "PyTorch allows us to manipulate tensors in different ways. Since PyTorch is built on top of NumPy, the same operations can be accessed through the `torch` module or alternatively through the `numpy` module. Due to the pythonic nature of PyTorch, we can also use the same operations as we would in Python.\n",
        "\n",
        "### Basic Operations Cheatsheet\n",
        "\n",
        "| Category | Description | Methods | PyTorch Method | Example |\n",
        "|----------|-------------|----------|----------------|---------|\n",
        "| Arithmetic | Basic math operations | +, -, *, /, ** | `add(), sub(), mul(), div(), pow(), sqrt()` | `a + b` |\n",
        "| Comparison | Compare values | >, <, ==, != | `gt(), lt(), eq(), ne()` | `a > 0` |\n",
        "| Reduction | Reduce dimensions | sum(), mean(), max() | `sum(), mean(), max()` | `a.sum()` |\n",
        "| Statistical | Statistical operations | std(), var() | `std(), var()` | `a.mean()` |\n",
        "\n",
        "***\n",
        "> <img src=\"https://raw.githubusercontent.com/CLDiego/uom_fse_dl_workshop/main/figs/icons/reminder.svg\" width=\"20\"/> **Tips**:\n",
        "> 1. **Type Matching**: Ensure tensors have compatible data types\n",
        "> 2. **Shape Broadcasting**: Understand how PyTorch broadcasts shapes\n",
        "> 3. **GPU Memory**: Be careful with large tensor operations on GPU\n",
        "> 4. **Inplace Operations**: Use `_` suffix for inplace operations\n",
        "\n",
        "***\n",
        "> <img src=\"https://raw.githubusercontent.com/CLDiego/uom_fse_dl_workshop/main/figs/icons/list.svg\" width=\"20\"/> **Common Mistakes to Avoid**:\n",
        "> - Mixing tensor types without conversion\n",
        "> - Forgetting to handle device placement (CPU/GPU)\n",
        "> - Not checking tensor shapes before operations\n",
        "> - Unnecessary copying of large tensors\n",
        "\n",
        "***\n",
        "> <img src=\"https://raw.githubusercontent.com/CLDiego/uom_fse_dl_workshop/main/figs/icons/code.svg\" width=\"20\"/> **Snippet 3**: Inplace operations\n",
        "\n",
        "```python\n",
        "# Instead of: x = x + 1\n",
        "x.add_(1)  # Inplace addition\n",
        "y.add_(x)  # Inplace addition with another tensor\n",
        "```"
      ]
    },
    {
      "cell_type": "code",
      "execution_count": null,
      "metadata": {
        "id": "YGKEH-7GA1Fn"
      },
      "outputs": [],
      "source": [
        "# Exercise 4: Basic Operations 🎯\n",
        "# Create two 2x2 matrices:\n",
        "a = torch.tensor([[1, 2], [3, 4]])\n",
        "b = torch.tensor([[5, 6], [7, 8]])\n",
        "\n",
        "# Perform the following operations:\n",
        "# 1. Matrix addition (a + b)\n",
        "# 2. Element-wise multiplication (a * b)\n",
        "# 3. Matrix multiplication (a @ b)\n",
        "# 4. Calculate square root of matrix a\n",
        "\n",
        "# Your code here:\n",
        "addition =   # Add your code\n",
        "multiplication =  # Add your code\n",
        "matrix_mult =   # Add your code\n",
        "sqrt_a =  # Add your code\n",
        "\n",
        "# ✅ Check your answer\n",
        "answer = {\n",
        "    'addition': addition,\n",
        "    'multiplication': multiplication,\n",
        "    'matrix_mult': matrix_mult,\n",
        "    'sqrt_a': sqrt_a\n",
        "}\n",
        "checker.check_exercise(4, answer)"
      ]
    },
    {
      "cell_type": "markdown",
      "metadata": {
        "id": "jQ1c_lYjA1Fn"
      },
      "source": [
        "## 4.1 Matrix operations\n",
        "***\n",
        "Matrix multiplication is a common operation in algebra and is used in many machine learning algorithms. We can perform:\n",
        "\n",
        "- **Matrix multiplication**: This is the standard matrix multiplication operation, which is denoted by the `@` operator in Python. This operation is also known as the dot product.\n",
        "- **Element-wise multiplication**: This is the multiplication of two matrices of the same shape, which is denoted by the `*` operator in Python. This operation is also known as the Hadamard product.\n",
        "- **Matrix transpose**: This is the operation of flipping a matrix over its diagonal, which is denoted by the `.T` attribute in Python. This operation is also known as the matrix transpose.\n",
        "- **Matrix inverse**: This is the operation of finding the inverse of a matrix, which is denoted by the `torch.inverse()` function in Python. This operation is also known as the matrix inverse.\n",
        "\n",
        "***\n",
        "| Operation | Description | Method | Example |\n",
        "|-----------|-------------|--------|---------|\n",
        "| Matrix Multiplication | Standard matrix product | @ or matmul() | `a @ b` |\n",
        "| Transpose | Flip matrix dimensions | .T or transpose() | `a.T` |\n",
        "| Inverse | Matrix inverse | inverse() | `torch.inverse(a)` |\n",
        "| Determinant | Matrix determinant | det() | `torch.det(a)` |\n",
        "| Eigenvalues | Eigenvalues and vectors | eig() | `torch.eig(a)` |\n",
        "| Singular Value Decomposition | SVD decomposition | svd() | `torch.svd(a)` |\n",
        "| Cholesky Decomposition | Cholesky factorization | cholesky() | `torch.cholesky(a)` |\n",
        "\n",
        "***\n",
        "<div align=\"center\">\n",
        "  <img src=\"https://raw.githubusercontent.com/CLDiego/uom_fse_dl_workshop/main/figs/matrix_mul.gif\" width=\"50%\">\n",
        "</div>\n"
      ]
    },
    {
      "cell_type": "code",
      "execution_count": null,
      "metadata": {
        "id": "MB2g6USvA1Fo"
      },
      "outputs": [],
      "source": [
        "# Exercise 5: Matrix Operations 🎯\n",
        "a = torch.tensor([[1, 2], [3, 4]], dtype=torch.float32)\n",
        "\n",
        "# Perform:\n",
        "# 1. Matrix multiplication with itself\n",
        "# 2. Matrix transpose\n",
        "# 3. Matrix determinant\n",
        "# 4. Matrix inverse\n",
        "\n",
        "matrix_mult = # Add your code\n",
        "transpose =  # Add your code\n",
        "determinant =  # Add your code\n",
        "inverse =  # Add your code\n",
        "\n",
        "# ✅ Check your answer\n",
        "answer = {\n",
        "    'matrix_mult': matrix_mult,\n",
        "    'transpose': transpose,\n",
        "    'determinant': determinant,\n",
        "    'inverse': inverse\n",
        "}\n",
        "checker.check_exercise(5, answer)"
      ]
    },
    {
      "cell_type": "markdown",
      "metadata": {
        "id": "wIduSdXsA1Fo"
      },
      "source": [
        "## 4.2 Tensor Broadcasting\n",
        "***\n",
        "\n",
        "> <img src=\"https://raw.githubusercontent.com/CLDiego/uom_fse_dl_workshop/main/figs/icons/docs.svg\" width=\"20\"/> **Documentation**: [Broadcasting](https://numpy.org/doc/stable/user/basics.broadcasting.html) is a powerful feature of NumPy and PyTorch that allows us to perform operations on arrays of different shapes without having to explicitly reshape them.\n",
        "\n",
        "Since PyTorch is built on top of NumPy we can use its broadcasting capabilities. Broadcasting is how NumPy handles arrays with different shapes during arithmetic operations. It allows us to perform operations on arrays of different shapes without having to explicitly reshape them. This is done by automatically expanding the smaller array to match the shape of the larger array.\n",
        "\n",
        "For example, if we have a 1D array of shape `(3,)` and a 2D array of shape `(3, 2)`, we can add them together without having to reshape the 1D array. NumPy will automatically expand the 1D array to match the shape of the 2D array.\n",
        "\n",
        "***\n",
        "> <img src=\"https://raw.githubusercontent.com/CLDiego/uom_fse_dl_workshop/main/figs/icons/code.svg\" width=\"20\"/> **Snippet 4**: Broadcasting example\n",
        "\n",
        "```python\n",
        "# Create a 1D tensor of shape (3,)\n",
        "a = torch.tensor([1, 2])\n",
        "# Create a 2D tensor of shape (3, 2)\n",
        "b = torch.tensor([[1, 2], [3, 4], [5, 6]])\n",
        "# Add the two tensors together\n",
        "c = a + b  # Broadcasting occurs here\n",
        "print(c)  # Output: tensor([[ 2,  4], [ 4,  6], [6, 8]])\n",
        "```"
      ]
    },
    {
      "cell_type": "code",
      "execution_count": null,
      "metadata": {
        "id": "hryuORYWA1Fo"
      },
      "outputs": [],
      "source": [
        "# Exercise 6: Broadcasting 🎯\n",
        "# Setup tensors\n",
        "matrix = torch.tensor([[1, 2], [3, 4]])\n",
        "scalar = torch.tensor([2])\n",
        "row = torch.tensor([1, 1])\n",
        "col = torch.tensor([[2], [3]])\n",
        "batch = torch.tensor([[[1, 2], [3, 4]], [[5, 6], [7, 8]]])\n",
        "\n",
        "# Perform the following broadcasts:\n",
        "# 1. Add scalar to matrix\n",
        "# 2. Multiply matrix by scalar\n",
        "# 3. Add row vector to matrix\n",
        "# 4. Multiply matrix by column vector\n",
        "# 5. Scale batch by scalar\n",
        "\n",
        "# Your code here:\n",
        "broadcast_add = # Add your code\n",
        "broadcast_mult =  # Add your code\n",
        "row_add =  # Add your code\n",
        "col_mult =  # Add your code\n",
        "batch_scale =  # Add your code\n",
        "\n",
        "# Print results to understand broadcasting\n",
        "print(f\"Original matrix shape: {matrix.shape}\")\n",
        "print(f\"After scalar addition: {broadcast_add.shape}\")\n",
        "print(f\"After row broadcast: {row_add.shape}\")\n",
        "print(f\"After column broadcast: {col_mult.shape}\")\n",
        "print(f\"After batch scaling: {batch_scale.shape}\")\n",
        "\n",
        "# ✅ Check your answer\n",
        "answer = {\n",
        "    'broadcast_add': broadcast_add,\n",
        "    'broadcast_mult': broadcast_mult,\n",
        "    'row_add': row_add,\n",
        "    'col_mult': col_mult,\n",
        "    'batch_scale': batch_scale\n",
        "}\n",
        "checker.check_exercise(6, answer)"
      ]
    },
    {
      "cell_type": "markdown",
      "metadata": {
        "id": "KJVwFLnsA1Fp"
      },
      "source": [
        "## 4.3 Reshaping Methods\n",
        "***\n",
        "Sometimes, we need to change the shape of a tensor without changing its data. We do this in order to prepare the tensor for a specific operation or to match the shape of another tensor. PyTorch provides several methods for reshaping tensors. Below is a table summarizing some of the most commonly used reshaping methods in PyTorch.\n",
        "\n",
        "| Method | Description | Example | Note |\n",
        "|--------|-------------|---------|------|\n",
        "| `reshape()` | New shape, maybe new memory | `x.reshape(2,3)` | May copy data |\n",
        "| `view()` | New shape, same memory | `x.view(2,3)` | Must be contiguous |\n",
        "| `squeeze()` | Remove single dims | `x.squeeze()` | Removes size 1 dims |\n",
        "| `unsqueeze()` | Add single dim | `x.unsqueeze(0)` | Adds size 1 dim |\n",
        "| `expand()` | Broadcast dimensions | `x.expand(2,3)` | No data copy |\n",
        "***\n",
        "\n",
        "> <img src=\"https://raw.githubusercontent.com/CLDiego/uom_fse_dl_workshop/main/figs/icons/code.svg\" width=\"20\"/> **Snippet 5**: Reshaping a tensor\n",
        "\n",
        "```python\n",
        "# Create a 1D tensor of shape (6,)\n",
        "x = torch.tensor([1, 2, 3, 4, 5, 6])\n",
        "# Reshape to (2, 3)\n",
        "print(x.reshape(2, 3))  # Output: tensor([[1, 2, 3], [4, 5, 6]])\n",
        "```"
      ]
    },
    {
      "cell_type": "code",
      "execution_count": null,
      "metadata": {
        "id": "5nimkc5oA1Fp"
      },
      "outputs": [],
      "source": [
        "# Exercise 7: Reshaping 🎯\n",
        "# Setup tensors\n",
        "flat = torch.tensor([1, 2, 3, 4, 5, 6])\n",
        "ones = torch.ones(1)\n",
        "vector = torch.tensor([1, 2, 3])\n",
        "\n",
        "# Perform:\n",
        "# 1. Reshape flat tensor to (3,2) matrix\n",
        "# 2. Expand ones to (3,1) matrix\n",
        "# 3. Reshape vector to be broadcastable with (3,3) matrix\n",
        "\n",
        "reshaped =  # Add your code\n",
        "expanded =  # Add your code\n",
        "broadcast_ready =   # Add your code\n",
        "\n",
        "# Verify broadcasting works\n",
        "test_matrix = torch.ones(3, 3)\n",
        "result = test_matrix * broadcast_ready\n",
        "print(f\"Broadcast result shape: {result.shape}\")\n",
        "\n",
        "# ✅ Check your answer\n",
        "answer = {\n",
        "    'reshaped': reshaped,\n",
        "    'expanded': expanded,\n",
        "    'broadcast_ready': broadcast_ready\n",
        "}\n",
        "checker.check_exercise(7, answer)"
      ]
    },
    {
      "cell_type": "markdown",
      "metadata": {
        "id": "2F3Cwr-OA1Fp"
      },
      "source": [
        "# 5. Automatic Differentiation (Autograd)\n",
        "***\n",
        "\n",
        "Automatic differentiation is one of the most powerful features of PyTorch. It allows us to compute gradients automatically, which is essential for training neural networks. PyTorch uses a technique called **reverse mode differentiation** to compute gradients efficiently. This technique is based on the chain rule of calculus and allows us to compute gradients for complex functions with many variables.\n",
        "\n",
        "> <img src=\"https://raw.githubusercontent.com/CLDiego/uom_fse_dl_workshop/main/figs/icons/docs.svg\" width=\"20\"/> **Documentation**: [Autograd](https://pytorch.org/docs/stable/autograd.html) is the automatic differentiation engine in PyTorch. It provides a way to compute gradients automatically for tensors with `requires_grad=True`.\n",
        "\n",
        "Take for instance the following function:\n",
        "\n",
        "$$f(x) = x^2 + 42y^2 + 3$$\n",
        "\n",
        "where $x$ and $y$ are tensors. The gradient of this function with respect to $x$ and $y$ is given by:\n",
        "\n",
        "$$\\frac{\\partial f}{\\partial x} = 2x$$\n",
        "$$\\frac{\\partial f}{\\partial y} = 84y$$\n",
        "\n",
        "using the chain rule of calculus. PyTorch allows us to compute these gradients automatically using the `backward()` method.\n",
        "\n",
        "The chain rule is a fundamental concept in calculus that allows us to compute the derivative of a composite function. It states that if we have two functions $f(x)$ and $g(x)$, then the derivative of their composition $f(g(x))$ is given by:\n",
        "\n",
        "$$\\frac{d}{dx}f(g(x)) = f'(g(x)) \\cdot g'(x)$$\n",
        "\n",
        "where $f'(g(x))$ is the derivative of $f$ with respect to $g$, and $g'(x)$ is the derivative of $g$ with respect to $x$. This means that we can compute the derivative of a composite function by computing the derivatives of its constituent functions and multiplying them together.\n",
        "\n",
        "## 5.1 Autograd Concepts\n",
        "***\n",
        "\n",
        "In PyTorch, the autograd engine keeps track of all operations performed on tensors with `requires_grad=True`. It builds a computation graph dynamically as operations are performed. This graph is used to compute gradients when we call the `backward()` method.\n",
        "\n",
        "| Concept | Description | Example |\n",
        "|---------|-------------|---------|\n",
        "| `requires_grad` | Flag to track gradients | `x = torch.tensor(1.0, requires_grad=True)` |\n",
        "| `backward()` | Compute gradients | `y.backward()` |\n",
        "| `grad` | Access gradients | `x.grad` |\n",
        "***\n",
        "\n",
        "> <img src=\"https://raw.githubusercontent.com/CLDiego/uom_fse_dl_workshop/main/figs/icons/code.svg\" width=\"20\"/> **Snippet 6**: Using autograd to compute gradients\n",
        "\n",
        "```python\n",
        "# Create tensor with gradient tracking\n",
        "x = torch.tensor([1.0], requires_grad=True)\n",
        "\n",
        "# Compute function\n",
        "y = x * x\n",
        "\n",
        "# Compute gradient\n",
        "y.backward()\n",
        "\n",
        "# Access gradient\n",
        "x.grad  # Should be 2.0\n",
        "```"
      ]
    },
    {
      "cell_type": "code",
      "execution_count": null,
      "metadata": {
        "id": "S8x2lu-uA1Fq"
      },
      "outputs": [],
      "source": [
        "# Exercise 8: Autograd 🎯\n",
        "x = torch.tensor([2.0], requires_grad=True)\n",
        "\n",
        "# Compute y = 3x^3 + 2x^2 - 5x + 1\n",
        "# Derivative at x=2 should be 3(3x^2) + 2(2x) - 5 = 3(12) + 2(4) - 5 = 36 + 8 - 5 = 39\n",
        "\n",
        "y =  # Add your code\n",
        "\n",
        "# Compute the gradient\n",
        "# Add your code\n",
        "\n",
        "# Print the gradient\n",
        "print(f\"Gradient at x=2: {x.grad}\")\n",
        "\n",
        "# ✅ Check your answer\n",
        "answer = {\n",
        "    'grad_value': x.grad,\n",
        "    'requires_grad': x.requires_grad\n",
        "}\n",
        "checker.check_exercise(8, answer)"
      ]
    },
    {
      "cell_type": "markdown",
      "metadata": {
        "id": "dpZ5LEHhA1Fq"
      },
      "source": [
        "# 6. Data to tensors\n",
        "***\n",
        "As mentioned before, PyTorch inherent pythonic nature allows us to easily convert existing data structures to tensors. Thus, we can use different data science libraries to load data and convert it to tensors. We are going to use the `pandas` library to load data from CSV files and convert it to tensors.\n",
        "\n",
        "> <img src=\"https://raw.githubusercontent.com/CLDiego/uom_fse_dl_workshop/main/figs/icons/docs.svg\" width=\"20\" /> **Documentation**: [Pandas](https://pandas.pydata.org/) is a powerful data analysis and manipulation library for Python. It provides data structures and functions needed to work with structured data.\n",
        "\n",
        "First, let's download the data. We will be using the [ARKOMA dataset](https://www.sciencedirect.com/science/article/pii/S2352340923007989). We will explore the dataset in the next section. For now, we will just download it and load it into a pandas dataframe.\n",
        "\n"
      ]
    },
    {
      "cell_type": "code",
      "execution_count": null,
      "metadata": {
        "id": "3JG4XvuaA1Fq"
      },
      "outputs": [],
      "source": [
        "data_path = Path(Path.cwd(), 'datasets')\n",
        "dataset_path = utils.data.download_dataset('ARKOMA',\n",
        "                                   dest_path=data_path,\n",
        "                                   extract=True)\n",
        "\n",
        "dataset_path = dataset_path / 'Left Arm Dataset' / 'LTrain_x.csv'"
      ]
    },
    {
      "cell_type": "markdown",
      "metadata": {
        "id": "iXzYigwMA1Fr"
      },
      "source": [
        "## 6.1 Loading data with pandas\n",
        "***\n",
        "DataFrames in pandas are similar to tables in SQL or Excel. They are two-dimensional data structures that can hold different types of data. DataFrames have rows and columns, where each column can have a different data type. We can use the `pandas` library to load data from CSV files and convert it to DataFrames.\n"
      ]
    },
    {
      "cell_type": "code",
      "execution_count": null,
      "metadata": {
        "id": "TtAjgv6pA1Fr"
      },
      "outputs": [],
      "source": [
        "# Read the dataset\n",
        "df = pd.read_csv(dataset_path)\n",
        "\n",
        "# Display the statistics of the dataset\n",
        "df.describe().T"
      ]
    },
    {
      "cell_type": "code",
      "execution_count": null,
      "metadata": {
        "id": "Sk6IcAnPA1Fr"
      },
      "outputs": [],
      "source": [
        "# Get the data as a numpy array\n",
        "type(df.Px.values)"
      ]
    },
    {
      "cell_type": "markdown",
      "metadata": {
        "id": "oiWUYTluA1Fr"
      },
      "source": [
        "To pass the data to PyTorch, we need to convert the DataFrame to a NumPy array and then to a tensor. We can do this using the `values` attribute of the DataFrame and the `torch.tensor()` function.\n",
        "***\n",
        "> <img src=\"https://raw.githubusercontent.com/CLDiego/uom_fse_dl_workshop/main/figs/icons/code.svg\" width=\"20\"/> **Snippet 7**: Creating a tensor from a DataFrame\n",
        "\n",
        "```python\n",
        "col_val = df['column_name'].values  # Get column values as NumPy array\n",
        "tensor = torch.tensor(col_val)  # Convert to tensor\n",
        "```"
      ]
    },
    {
      "cell_type": "code",
      "execution_count": null,
      "metadata": {
        "id": "ykA-LA9zA1Fs"
      },
      "outputs": [],
      "source": [
        "# Exercise 9: Pandas to Tensors 🎯\n",
        "# Given the DataFrame df with NAO robot arm data\n",
        "# Perform the following:\n",
        "# 1. Convert the 'Px' column to a tensor\n",
        "# 2. Convert the 'Py' column to a tensor\n",
        "# 3. Create a tensor from all position columns (Px, Py, Pz)\n",
        "# 4. Create a tensor of all columns and convert to float32\n",
        "\n",
        "# Your code here:\n",
        "px_tensor = # Add your code\n",
        "py_tensor =  # Add your code\n",
        "pos_tensor =  # Add your code\n",
        "all_data =  # Add your code\n",
        "\n",
        "# Print shapes\n",
        "print(f\"px_tensor shape: {px_tensor.shape}\")\n",
        "print(f\"py_tensor shape: {py_tensor.shape}\")\n",
        "print(f\"pos_tensor shape: {pos_tensor.shape}\")\n",
        "print(f\"all_data shape: {all_data.shape}\")\n",
        "\n",
        "# ✅ Check your answer\n",
        "answer = {\n",
        "    'px_tensor': px_tensor,\n",
        "    'py_tensor': py_tensor,\n",
        "    'pos_tensor': pos_tensor,\n",
        "    'all_data': all_data\n",
        "}\n",
        "checker.check_exercise(9, answer)"
      ]
    },
    {
      "cell_type": "markdown",
      "metadata": {
        "id": "qyqswrmFA1Fs"
      },
      "source": [
        "# 7. Using the GPU\n",
        "***\n",
        "PyTorch allows us to use the GPU to accelerate computations. This is done by moving the tensors to the GPU memory. We can do this by using the `to` method of a tensor and passing the device as an argument. The device can be either `cuda` or `cpu`. The `cuda` device refers to the GPU, while the `cpu` device refers to the CPU.\n",
        "\n",
        "> <img src=\"https://raw.githubusercontent.com/CLDiego/uom_fse_dl_workshop/main/figs/icons/reminder.svg\" width=\"20\"/> **Note**: Not all operations are supported on the GPU. If an operation is not supported on the GPU, PyTorch will automatically move the tensor to the CPU and perform the operation there. This can lead to performance issues, so it is important to be aware of which operations are supported on the GPU.\n",
        "\n",
        "***\n",
        "> <img src=\"https://raw.githubusercontent.com/CLDiego/uom_fse_dl_workshop/main/figs/icons/code.svg\" width=\"20\"/> **Snippet 8**: Checking for GPU availability\n",
        "\n",
        "```python\n",
        "# Check if GPU is available\n",
        "if torch.cuda.is_available():\n",
        "    device = torch.device('cuda')  # Use GPU\n",
        "else:\n",
        "    device = torch.device('cpu')  # Use CPU\n",
        "```"
      ]
    },
    {
      "cell_type": "code",
      "execution_count": null,
      "metadata": {
        "id": "H7uiEvmuA1Fs"
      },
      "outputs": [],
      "source": [
        "# Check GPU availability\n",
        "device = torch.device(\"cuda\" if torch.cuda.is_available() else \"cpu\")\n",
        "\n",
        "print(f\"Device: {device}\")\n",
        "\n",
        "# Move the tensor to the GPU\n",
        "px_tensor = px_tensor.to(device)\n",
        "print(f'Tensor moved to device: {px_tensor.device}')"
      ]
    },
    {
      "cell_type": "markdown",
      "metadata": {
        "id": "UoAnxg30A1Fs"
      },
      "source": [
        "> <img src=\"https://raw.githubusercontent.com/CLDiego/uom_fse_dl_workshop/main/figs/icons/reminder.svg\" width=\"20\"/> **Tip**: More than one GPU? No problem! PyTorch allows us to use multiple GPUs by specifying the device ID. We can do this by passing the device ID as an argument to the `torch.device()` function. The device ID is a number that identifies the GPU. For example, if we have two GPUs, we can use the first GPU by specifying `cuda:0` and the second GPU by specifying `cuda:1`. We can also use the `torch.cuda.device_count()` function to get the number of available GPUs.\n",
        "\n",
        "## 7.1 When to use the GPU\n",
        "***\n",
        "Using the GPU is beneficial when we are working with large tensors or when we are performing operations that are computationally expensive. For example, training a deep learning model on a large dataset can be accelerated by using the GPU. However, if we are working with small tensors or performing simple operations, using the CPU may be faster.\n",
        "\n",
        "Typically, we use the GPU for computer vision and natural language processing tasks, where the data is large and the operations are computationally expensive.\n",
        "\n",
        "> <img src=\"https://raw.githubusercontent.com/CLDiego/uom_fse_dl_workshop/main/figs/icons/list.svg \" width=\"20\"/> **Note**: When choosing between the CPU and GPU, it is important to make sure that all tensors and models are on the same device. If a tensor is on the CPU and a model is on the GPU, PyTorch will automatically move the tensor to the GPU, which can lead to performance issues. It is important to be aware of which device each tensor and model is on."
      ]
    }
  ],
  "metadata": {
    "kernelspec": {
      "display_name": "torch_env",
      "language": "python",
      "name": "python3"
    },
    "language_info": {
      "codemirror_mode": {
        "name": "ipython",
        "version": 3
      },
      "file_extension": ".py",
      "mimetype": "text/x-python",
      "name": "python",
      "nbconvert_exporter": "python",
      "pygments_lexer": "ipython3",
      "version": "3.12.2"
    },
    "colab": {
      "provenance": [],
      "include_colab_link": true
    }
  },
  "nbformat": 4,
  "nbformat_minor": 0
}